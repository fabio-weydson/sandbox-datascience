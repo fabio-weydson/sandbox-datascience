{
  "nbformat": 4,
  "nbformat_minor": 0,
  "metadata": {
    "colab": {
      "name": "CE_5.1_por_autismo.ipynb",
      "provenance": [],
      "collapsed_sections": [],
      "toc_visible": true,
      "include_colab_link": true
    },
    "hide_input": false,
    "kernelspec": {
      "display_name": "Python 3",
      "name": "python3"
    },
    "toc": {
      "base_numbering": 1,
      "nav_menu": {},
      "number_sections": true,
      "sideBar": true,
      "skip_h1_title": false,
      "title_cell": "Table of Contents",
      "title_sidebar": "Contents",
      "toc_cell": true,
      "toc_position": {},
      "toc_section_display": true,
      "toc_window_display": false
    },
    "varInspector": {
      "cols": {
        "lenName": 16,
        "lenType": 16,
        "lenVar": 40
      },
      "kernels_config": {
        "python": {
          "delete_cmd_postfix": "",
          "delete_cmd_prefix": "del ",
          "library": "var_list.py",
          "varRefreshCmd": "print(var_dic_list())"
        },
        "r": {
          "delete_cmd_postfix": ") ",
          "delete_cmd_prefix": "rm(",
          "library": "var_list.r",
          "varRefreshCmd": "cat(var_dic_list()) "
        }
      },
      "types_to_exclude": [
        "module",
        "function",
        "builtin_function_or_method",
        "instance",
        "_Feature"
      ],
      "window_display": true
    }
  },
  "cells": [
    {
      "cell_type": "markdown",
      "metadata": {
        "id": "view-in-github",
        "colab_type": "text"
      },
      "source": [
        "<a href=\"https://colab.research.google.com/github/fabio-weydson/sandbox-datascience/blob/main/CE_5_1_por_genes_autismo.ipynb\" target=\"_parent\"><img src=\"https://colab.research.google.com/assets/colab-badge.svg\" alt=\"Open In Colab\"/></a>"
      ]
    },
    {
      "cell_type": "markdown",
      "metadata": {
        "id": "BwaCPLWle4P1"
      },
      "source": [
        "# Estudo de caso 5.1 - Identificando novos genes do autismo"
      ]
    },
    {
      "cell_type": "markdown",
      "metadata": {
        "id": "-4F9CWywe4P2"
      },
      "source": [
        "Configuração do *notebook*:"
      ]
    },
    {
      "cell_type": "markdown",
      "metadata": {
        "id": "Azi08KciuAmF"
      },
      "source": [
        "Sincronize sua conta do Google. Para isso, siga o link que aparece na saída da seguinte célula uma vez executada. Copie o código que aparece na tela e insira-o na saída da célula. Assim que visualizar a mensagem: `Google Drive sincronizado com sucesso!`poderá continuar executando o restante das células."
      ]
    },
    {
      "cell_type": "code",
      "metadata": {
        "id": "jGYcsLShi5Tp"
      },
      "source": [
        "from google.colab import auth\n",
        "auth.authenticate_user()\n",
        "\n",
        "from pydrive.auth import GoogleAuth\n",
        "from pydrive.drive import GoogleDrive\n",
        "from google.colab import auth\n",
        "from oauth2client.client import GoogleCredentials\n",
        "\n",
        "gauth = GoogleAuth()\n",
        "gauth.credentials = GoogleCredentials.get_application_default()\n",
        "drive = GoogleDrive(gauth)\n",
        "data_drop = drive.CreateFile({'id':'1Iin0h_JR8qiJl8UmJfa7cq-YZ4ou5n2Q'})\n",
        "data_drop.GetContentFile('BIOGRID.txt')\n",
        "data_drop = drive.CreateFile({'id':'10FxN4lVk8-dsbdmVLEWEwoKI1wSFAqKs'})\n",
        "data_drop.GetContentFile('gene-id-table.txt')\n",
        "data_drop = drive.CreateFile({'id':'1yWjhKnw2knYtLeeX5mzFrJ-qrtEQgAOx'})\n",
        "data_drop.GetContentFile('gene-score.csv')\n",
        "data_drop = drive.CreateFile({'id':'1P4MPEtbrQuIUHraBy3nxCKieGFHjK4HG'})\n",
        "data_drop.GetContentFile('steiner_tree.R')\n",
        "\n",
        "print('Google Drive sincronizado com sucesso!')"
      ],
      "execution_count": null,
      "outputs": []
    },
    {
      "cell_type": "code",
      "metadata": {
        "id": "UF-N5UbBiNyA"
      },
      "source": [
        "%load_ext rpy2.ipython"
      ],
      "execution_count": null,
      "outputs": []
    },
    {
      "cell_type": "markdown",
      "metadata": {
        "id": "IzhFIscbPKyF"
      },
      "source": [
        "Instalar e importar bibliotecas: (ignorar resultados a não ser que não apareça a frase: `Bibliotecas instaladas com sucesso!`)"
      ]
    },
    {
      "cell_type": "code",
      "metadata": {
        "id": "nfPXGW2TPJK9"
      },
      "source": [
        "%%R\n",
        "install.packages('igraph')\n",
        "cat('\\nBibliotecas instaladas com sucesso!')"
      ],
      "execution_count": null,
      "outputs": []
    },
    {
      "cell_type": "code",
      "metadata": {
        "id": "rTk7zQOMPR9z"
      },
      "source": [
        "%%R\n",
        "library(igraph) \n",
        "cat('\\nBibliotecas instaladas com sucesso!')"
      ],
      "execution_count": null,
      "outputs": []
    },
    {
      "cell_type": "markdown",
      "metadata": {
        "id": "7usuoX7qe4P6"
      },
      "source": [
        "## Dados\n"
      ]
    },
    {
      "cell_type": "markdown",
      "metadata": {
        "id": "kGTwTYmsSCeL"
      },
      "source": [
        "### Rede de interações proteína-proteína"
      ]
    },
    {
      "cell_type": "markdown",
      "metadata": {
        "id": "qitHefGVeJA_"
      },
      "source": [
        "Carregar o banco de dados BIOGRID."
      ]
    },
    {
      "cell_type": "code",
      "metadata": {
        "id": "3E1kHii1dQjb"
      },
      "source": [
        "%%R\n",
        "biogrid <- read.delim(\"BIOGRID.txt\",stringsAsFactors = F)"
      ],
      "execution_count": null,
      "outputs": []
    },
    {
      "cell_type": "markdown",
      "metadata": {
        "id": "HaPor3FseIjc"
      },
      "source": [
        "Ver os diferentes componentes do banco de dados."
      ]
    },
    {
      "cell_type": "code",
      "metadata": {
        "id": "S_kMiIbldEt7"
      },
      "source": [
        "%%R\n",
        "names(biogrid)  "
      ],
      "execution_count": null,
      "outputs": []
    },
    {
      "cell_type": "markdown",
      "metadata": {
        "id": "LA8VJHbAeU09"
      },
      "source": [
        "Anexar o banco de dados ao *workspace* e atribuir as interações entre proteínas à variável `HSnet`."
      ]
    },
    {
      "cell_type": "code",
      "metadata": {
        "id": "Ul8LpzymeGry"
      },
      "source": [
        "%%R\n",
        "attach(biogrid) \n",
        "HSnet <- graph.data.frame(data.frame(Entrez.Gene.Interactor.A,Entrez.Gene.Interactor.B),directed=F)"
      ],
      "execution_count": null,
      "outputs": []
    },
    {
      "cell_type": "markdown",
      "metadata": {
        "id": "D5nUNfgqfPXX"
      },
      "source": [
        "Também podemos ver a forma que essa rede de interações adquire:"
      ]
    },
    {
      "cell_type": "code",
      "metadata": {
        "id": "9L1_KJxVdQ1X"
      },
      "source": [
        "%%R\n",
        "graph.data.frame(data.frame(Entrez.Gene.Interactor.A,Entrez.Gene.Interactor.B),directed=F)"
      ],
      "execution_count": null,
      "outputs": []
    },
    {
      "cell_type": "markdown",
      "metadata": {
        "id": "LvJE7ttQRdCL"
      },
      "source": [
        "A linha seguinte permitirá que você trace a rede, mas isso levará algum tempo. O resultado será de melhor qualidade se você executar a tarefa em um ambiente nativo de R (como o RStudio)."
      ]
    },
    {
      "cell_type": "code",
      "metadata": {
        "colab": {
          "background_save": true
        },
        "id": "C1qZb-wUPyvL"
      },
      "source": [
        "%%R\n",
        "plot(HSnet)"
      ],
      "execution_count": null,
      "outputs": []
    },
    {
      "cell_type": "markdown",
      "metadata": {
        "id": "wg-wj8j4flM_"
      },
      "source": [
        "Agora podemos obter a matriz de adjacência da rede, $A$. Como a matriz é muito grande, podemos visualizar a primeira seção de 15x15 células:\n"
      ]
    },
    {
      "cell_type": "code",
      "metadata": {
        "id": "e5Ib19fOf8qx"
      },
      "source": [
        "%%R\n",
        "A <- get.adjacency(HSnet)\n",
        "A[1:15,1:15] "
      ],
      "execution_count": null,
      "outputs": []
    },
    {
      "cell_type": "code",
      "metadata": {
        "id": "1VmeAQNsf8vh"
      },
      "source": [
        "%%R\n",
        "#o seguinte é FALSE se o grafo não for simples.\n",
        "is.simple(HSnet)"
      ],
      "execution_count": null,
      "outputs": []
    },
    {
      "cell_type": "markdown",
      "metadata": {
        "id": "ylKot81ko_f1"
      },
      "source": [
        "Como observamos que existem arestas múltiplas na rede, vamos transformá-la em uma rede simples:"
      ]
    },
    {
      "cell_type": "code",
      "metadata": {
        "id": "v6TQLA03f8x4"
      },
      "source": [
        "%%R\n",
        "#eliminar arestas múltiplas e autoloops\n",
        "HSnet <- simplify(HSnet, remove.multiple = TRUE, remove.loops = TRUE, edge.attr.comb = getIgraphOpt(\"edge.attr.comb\"))\n",
        "\n",
        "is.simple(HSnet)"
      ],
      "execution_count": null,
      "outputs": []
    },
    {
      "cell_type": "markdown",
      "metadata": {
        "id": "RoaXnjYupPF-"
      },
      "source": [
        "Observamos que agora só há arestas únicas:"
      ]
    },
    {
      "cell_type": "code",
      "metadata": {
        "id": "s6aIRyoBf80B"
      },
      "source": [
        "%%R\n",
        "A <- get.adjacency(HSnet)\n",
        "A[1:15,1:15]"
      ],
      "execution_count": null,
      "outputs": []
    },
    {
      "cell_type": "code",
      "metadata": {
        "id": "aXku8dBNuCQR"
      },
      "source": [
        "%%R\n",
        "plot(HSnet)"
      ],
      "execution_count": null,
      "outputs": []
    },
    {
      "cell_type": "markdown",
      "metadata": {
        "id": "nIpuWKwORwOU"
      },
      "source": [
        "Para esta aplicação, são removidos os nós de alto grau; esses nós normalmente representam genes constituintes que são necessários para manter uma célula viva, mas geralmente não são específicos para uma doença em particular."
      ]
    },
    {
      "cell_type": "code",
      "metadata": {
        "id": "Dfs6wTn_twBt"
      },
      "source": [
        "%%R\n",
        "overly.attached.proteins <- which(degree(HSnet)>1000)\n",
        "overly.attached.proteins"
      ],
      "execution_count": null,
      "outputs": []
    },
    {
      "cell_type": "code",
      "metadata": {
        "id": "OXdN-v05Py0g"
      },
      "source": [
        "%%R\n",
        "HSnet <- delete.vertices(HSnet, overly.attached.proteins)\n",
        "\n",
        "#o seguinte é TRUE se o grafo estiver conectado.\n",
        "is.connected(HSnet)"
      ],
      "execution_count": null,
      "outputs": []
    },
    {
      "cell_type": "markdown",
      "metadata": {
        "id": "7ElUMOTCSEpG"
      },
      "source": [
        "### Genes causadores do autismo"
      ]
    },
    {
      "cell_type": "markdown",
      "metadata": {
        "id": "Y46BuX6cpwVT"
      },
      "source": [
        "Agora, passamos a ler a tabela `gene-id`:"
      ]
    },
    {
      "cell_type": "code",
      "metadata": {
        "id": "iLi1Y31MPy2y"
      },
      "source": [
        "%%R\n",
        "gene.table <- read.delim(\"gene-id-table.txt\") \n",
        "names(gene.table)"
      ],
      "execution_count": null,
      "outputs": []
    },
    {
      "cell_type": "markdown",
      "metadata": {
        "id": "bh123DvqqH3J"
      },
      "source": [
        "Depois, temos que ler também a tabela de pontuação para genes relacionados ao autismo (`gene-scores`):"
      ]
    },
    {
      "cell_type": "code",
      "metadata": {
        "id": "weVRzrigp22z"
      },
      "source": [
        "%%R\n",
        "gene.score<-read.csv(\"gene-score.csv\",stringsAsFactors=F) \n",
        "attach(gene.score)\n",
        "names(gene.score)"
      ],
      "execution_count": null,
      "outputs": []
    },
    {
      "cell_type": "code",
      "metadata": {
        "id": "gusxVGTkqVY0"
      },
      "source": [
        "%%R \n",
        "#exibindo as pontuações\n",
        "unique(Score)"
      ],
      "execution_count": null,
      "outputs": []
    },
    {
      "cell_type": "markdown",
      "metadata": {
        "id": "IHQVhqAesiuX"
      },
      "source": [
        "Agora podemos identificar esses genes com pontuações significativas:"
      ]
    },
    {
      "cell_type": "code",
      "metadata": {
        "id": "FKq0lsxSp25W"
      },
      "source": [
        "%%R\n",
        "signif.scores <- c(\"1S\",\"1\",\"2S\",\"2\",\"3S\",\"3\") \n",
        "signif.genes <- Gene.Symbol[which(Score %in% signif.scores)] \n",
        "signif.EIDs <- gene.table[which(gene.table[,1] %in% signif.genes),2]"
      ],
      "execution_count": null,
      "outputs": []
    },
    {
      "cell_type": "markdown",
      "metadata": {
        "id": "1xefcDqysqW_"
      },
      "source": [
        "Finalmente, podemos usar a rede de interação `HSnet` que criamos anteriormente, para determinar os genes que estão presentes na rede e que são conhecidos por causar autismo:"
      ]
    },
    {
      "cell_type": "code",
      "metadata": {
        "id": "UA5Dd7t1p27J"
      },
      "source": [
        "%%R\n",
        "geneEIDs <- as.numeric(V(HSnet)$name)\n",
        "HSnetN <- HSnet\n",
        "V(HSnetN)$name <- 1:length(V(HSnet))\n",
        "signif.ids <- which(geneEIDs %in% signif.EIDs) \n",
        "length(signif.ids)"
      ],
      "execution_count": null,
      "outputs": []
    },
    {
      "cell_type": "markdown",
      "metadata": {
        "id": "80ZDLw6ISKSq"
      },
      "source": [
        "## Desenvolvendo um interactoma do autismo"
      ]
    },
    {
      "cell_type": "markdown",
      "metadata": {
        "id": "gEX-zOyF1phL"
      },
      "source": [
        "Importa-se o script para calcular o `steiner_tree.R`, ou seja, a sub-rede de menor comprimento que conecta certo conjunto de nós."
      ]
    },
    {
      "cell_type": "code",
      "metadata": {
        "id": "uPywKZ-6Py5l"
      },
      "source": [
        "%%R\n",
        "source('steiner_tree.R')"
      ],
      "execution_count": null,
      "outputs": []
    },
    {
      "cell_type": "markdown",
      "metadata": {
        "id": "6kExVI4R1yO2"
      },
      "source": [
        "Identificar o *Steiner Tree* e cronometrar o tempo que leva para executar essa função."
      ]
    },
    {
      "cell_type": "code",
      "metadata": {
        "id": "2sBIrLXwdNnz"
      },
      "source": [
        "%%R\n",
        "system.time(HS.stree <- steiner_tree(terminals=signif.ids, graph=HSnetN))"
      ],
      "execution_count": null,
      "outputs": []
    },
    {
      "cell_type": "markdown",
      "metadata": {
        "id": "4xiiYS771y7s"
      },
      "source": [
        "Mostrar a sobreposição entre a significância do autismo e vértices *Steiner Tree*"
      ]
    },
    {
      "cell_type": "code",
      "metadata": {
        "id": "-lv4KU0R1KDs"
      },
      "source": [
        "%%R\n",
        "length(intersect(signif.ids,V(HS.stree)$name)) \n",
        "labels<-gene.table[as.numeric(V(HS.stree)$name),1] \n",
        "labels<-as.character(labels)"
      ],
      "execution_count": null,
      "outputs": []
    },
    {
      "cell_type": "markdown",
      "metadata": {
        "id": "8wRg6R3x1qAO"
      },
      "source": [
        "Identificar os genes que têm pontuações significativas e atribuir a eles a cor vermelha"
      ]
    },
    {
      "cell_type": "code",
      "metadata": {
        "id": "7UX46us61KGH"
      },
      "source": [
        "%%R\n",
        "colors<-rep(\"skyblue\",length(V(HS.stree))) \n",
        "colors[which(as.numeric(V(HS.stree)$name) %in% signif.ids)] = \"red\"\n",
        "#Atribuir cor aos vértices da árvore\n",
        "V(HS.stree)$color = colors"
      ],
      "execution_count": null,
      "outputs": []
    },
    {
      "cell_type": "markdown",
      "metadata": {
        "id": "ks7CVnuq1qFR"
      },
      "source": [
        "Exportar o novo gráfico para um arquivo `.pdf`. Você pode acessá-lo na barra lateral."
      ]
    },
    {
      "cell_type": "code",
      "metadata": {
        "id": "_ng4Klbj1KK3"
      },
      "source": [
        "%%R\n",
        "pdf(\"ASD_interactome.pdf\",width=12, height=12) \n",
        "system.time(plot(HS.stree,vertex.label=labels,vertex.size=5,vertex.label.cex=0.8)) \n",
        "dev.off()"
      ],
      "execution_count": null,
      "outputs": []
    },
    {
      "cell_type": "markdown",
      "metadata": {
        "id": "pdI-HzlSdVRV"
      },
      "source": [
        "## Análise e propriedades do interactoma do autismo"
      ]
    },
    {
      "cell_type": "markdown",
      "metadata": {
        "id": "cUkWE7te7Pv4"
      },
      "source": [
        "Para analisar as propriedades do interactoma do autismo e compará-las com os interactomas gerados aleatoriamente, usaremos a biblioteca `sna`:"
      ]
    },
    {
      "cell_type": "code",
      "metadata": {
        "id": "6exzzd9odNp_"
      },
      "source": [
        "%%R\n",
        "install.packages('sna')\n",
        "library(sna, quietly=TRUE)"
      ],
      "execution_count": null,
      "outputs": []
    },
    {
      "cell_type": "markdown",
      "metadata": {
        "id": "_UjqkwHc7Qa-"
      },
      "source": [
        "Primeiro, criamos uma função que calcula as pontuações de conectividade da rede. Neste estudo, as pontuações são os diâmetros da rede e a distância geodésica média entre dois nós quaisquer:"
      ]
    },
    {
      "cell_type": "code",
      "metadata": {
        "id": "5TAoF_o3dNsT"
      },
      "source": [
        "%%R\n",
        "c.scores<-function(graph){\n",
        "    n <- length(V(graph))\n",
        "    sp <- shortest.paths(graph)\n",
        "    neighbors <- sum(sp==1)/2\n",
        "    neighbors2 <- sum(sp==2)/2 \n",
        "    return(c(2*neighbors/(n*(n-1)),2*neighbors2/(n*(n-1))))\n",
        "}\n",
        "\n",
        "clus <- clusters(HSnetN,mode=c(\"weak\")) \n",
        "connected.ids <- which(clus$membership==1) \n",
        "length(connected.ids)"
      ],
      "execution_count": null,
      "outputs": []
    },
    {
      "cell_type": "markdown",
      "metadata": {
        "id": "MnTUKHUf6u6t"
      },
      "source": [
        "Geramos N sub-redes aleatoriamente. Isso pode levar algum tempo se N for grande."
      ]
    },
    {
      "cell_type": "code",
      "metadata": {
        "id": "GfJKj6hl6v8K"
      },
      "source": [
        "%%R\n",
        "N<-50 \n",
        "strees<-list(N) \n",
        "effs<-numeric(N) \n",
        "nei<-numeric(N) \n",
        "nei2<-numeric(N) \n",
        "for (i in 1:N){\n",
        "    new.ids<-sample(x=connected.ids,size=length(signif.ids)) \n",
        "    strees[[i]] <- steiner_tree(terminals=new.ids,graph=HSnetN) \n",
        "    effs[i]<-efficiency(get.adjacency(strees[[i]],sparse=F)) \n",
        "    cs<-c.scores(strees[[i]])\n",
        "    nei[i]<-cs[1]\n",
        "    nei2[i]<-cs[2] \n",
        "}"
      ],
      "execution_count": null,
      "outputs": []
    },
    {
      "cell_type": "markdown",
      "metadata": {
        "id": "CwDoM9hi6wKb"
      },
      "source": [
        "Podemos mostrar as pontuações de eficiência e conectividade para cada um dos grafos aleatórios:"
      ]
    },
    {
      "cell_type": "code",
      "metadata": {
        "id": "OTYc4sDf6wVB"
      },
      "source": [
        "%%R\n",
        "effs"
      ],
      "execution_count": null,
      "outputs": []
    },
    {
      "cell_type": "code",
      "metadata": {
        "id": "WasOrSX8Unmo"
      },
      "source": [
        "%%R \n",
        "nei "
      ],
      "execution_count": null,
      "outputs": []
    },
    {
      "cell_type": "code",
      "metadata": {
        "id": "2c7DslBvUnp0"
      },
      "source": [
        "%%R \n",
        "nei2"
      ],
      "execution_count": null,
      "outputs": []
    },
    {
      "cell_type": "markdown",
      "metadata": {
        "id": "LS43a6MM6wn8"
      },
      "source": [
        "Finalmente, mostramos as pontuações de eficiência e conectividade para o interactoma do autismo.\n"
      ]
    },
    {
      "cell_type": "code",
      "metadata": {
        "id": "mJg2tlnV6wzL"
      },
      "source": [
        "%%R\n",
        "efficiency(get.adjacency(HS.stree,sparse=F)) "
      ],
      "execution_count": null,
      "outputs": []
    },
    {
      "cell_type": "code",
      "metadata": {
        "id": "SRvSI4m7U2Do"
      },
      "source": [
        "%%R\n",
        "c.scores(HS.stree)"
      ],
      "execution_count": null,
      "outputs": []
    },
    {
      "cell_type": "markdown",
      "metadata": {
        "id": "49EKA8nbddJz"
      },
      "source": [
        "## Identificação de novos genes candidatos"
      ]
    },
    {
      "cell_type": "markdown",
      "metadata": {
        "id": "t4fnARzd7Ton"
      },
      "source": [
        "Calcular a pontuação de centralidade de intermediação para cada nó"
      ]
    },
    {
      "cell_type": "code",
      "metadata": {
        "id": "oyZG0Og-dNus"
      },
      "source": [
        "%%R\n",
        "betweeness_centrality_scores = igraph::betweenness(HS.stree)"
      ],
      "execution_count": null,
      "outputs": []
    },
    {
      "cell_type": "markdown",
      "metadata": {
        "id": "QkwafWfS699L"
      },
      "source": [
        "Identificar os que que ainda não sabemos se são significativos\n"
      ]
    },
    {
      "cell_type": "code",
      "metadata": {
        "id": "t-fgWpkXz_9n"
      },
      "source": [
        "%%R\n",
        "significant_centrality = c()\n",
        "count = 0\n",
        "for (i in 1:length(betweeness_centrality_scores)){\n",
        "    if (!(as.numeric(names(betweeness_centrality_scores[i])) %in% signif.ids)) { \n",
        "        significant_centrality = c(significant_centrality,betweeness_centrality_scores[i])\n",
        "    }\n",
        "}"
      ],
      "execution_count": null,
      "outputs": []
    },
    {
      "cell_type": "markdown",
      "metadata": {
        "id": "dA7m23F66_7x"
      },
      "source": [
        "Ordenar e mostrar o número de nós significativos"
      ]
    },
    {
      "cell_type": "code",
      "metadata": {
        "id": "hYCwDs6l7AFg"
      },
      "source": [
        "%%R\n",
        "significant_centrality = sort(significant_centrality, decreasing=TRUE) \n",
        "length(significant_centrality)"
      ],
      "execution_count": null,
      "outputs": []
    }
  ]
}