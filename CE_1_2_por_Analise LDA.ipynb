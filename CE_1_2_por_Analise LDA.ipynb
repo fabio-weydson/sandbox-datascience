{
  "nbformat": 4,
  "nbformat_minor": 0,
  "metadata": {
    "hide_input": false,
    "kernelspec": {
      "display_name": "Python 3",
      "language": "python",
      "name": "python3"
    },
    "language_info": {
      "codemirror_mode": {
        "name": "ipython",
        "version": 3
      },
      "file_extension": ".py",
      "mimetype": "text/x-python",
      "name": "python",
      "nbconvert_exporter": "python",
      "pygments_lexer": "ipython3",
      "version": "3.7.7"
    },
    "toc": {
      "base_numbering": 1,
      "nav_menu": {},
      "number_sections": true,
      "sideBar": true,
      "skip_h1_title": false,
      "title_cell": "Table of Contents",
      "title_sidebar": "Contents",
      "toc_cell": true,
      "toc_position": {},
      "toc_section_display": true,
      "toc_window_display": false
    },
    "varInspector": {
      "cols": {
        "lenName": 16,
        "lenType": 16,
        "lenVar": 40
      },
      "kernels_config": {
        "python": {
          "delete_cmd_postfix": "",
          "delete_cmd_prefix": "del ",
          "library": "var_list.py",
          "varRefreshCmd": "print(var_dic_list())"
        },
        "r": {
          "delete_cmd_postfix": ") ",
          "delete_cmd_prefix": "rm(",
          "library": "var_list.r",
          "varRefreshCmd": "cat(var_dic_list()) "
        }
      },
      "types_to_exclude": [
        "module",
        "function",
        "builtin_function_or_method",
        "instance",
        "_Feature"
      ],
      "window_display": false
    },
    "colab": {
      "name": "Cópia de CE_1.2_por.ipynb",
      "provenance": [],
      "collapsed_sections": [
        "ygL8w3ePQe38"
      ],
      "include_colab_link": true
    },
    "widgets": {
      "application/vnd.jupyter.widget-state+json": {
        "8697e1e89be84f5abe3b41179a395822": {
          "model_module": "@jupyter-widgets/controls",
          "model_name": "HBoxModel",
          "state": {
            "_view_name": "HBoxView",
            "_dom_classes": [],
            "_model_name": "HBoxModel",
            "_view_module": "@jupyter-widgets/controls",
            "_model_module_version": "1.5.0",
            "_view_count": null,
            "_view_module_version": "1.5.0",
            "box_style": "",
            "layout": "IPY_MODEL_57734185bdf74733bda9093a07144816",
            "_model_module": "@jupyter-widgets/controls",
            "children": [
              "IPY_MODEL_fddff8ea14bf46ecacb6c66f66b6192b",
              "IPY_MODEL_b94aa2fdc50049deb6b01b2347fc7ab3"
            ]
          }
        },
        "57734185bdf74733bda9093a07144816": {
          "model_module": "@jupyter-widgets/base",
          "model_name": "LayoutModel",
          "state": {
            "_view_name": "LayoutView",
            "grid_template_rows": null,
            "right": null,
            "justify_content": null,
            "_view_module": "@jupyter-widgets/base",
            "overflow": null,
            "_model_module_version": "1.2.0",
            "_view_count": null,
            "flex_flow": null,
            "width": null,
            "min_width": null,
            "border": null,
            "align_items": null,
            "bottom": null,
            "_model_module": "@jupyter-widgets/base",
            "top": null,
            "grid_column": null,
            "overflow_y": null,
            "overflow_x": null,
            "grid_auto_flow": null,
            "grid_area": null,
            "grid_template_columns": null,
            "flex": null,
            "_model_name": "LayoutModel",
            "justify_items": null,
            "grid_row": null,
            "max_height": null,
            "align_content": null,
            "visibility": null,
            "align_self": null,
            "height": null,
            "min_height": null,
            "padding": null,
            "grid_auto_rows": null,
            "grid_gap": null,
            "max_width": null,
            "order": null,
            "_view_module_version": "1.2.0",
            "grid_template_areas": null,
            "object_position": null,
            "object_fit": null,
            "grid_auto_columns": null,
            "margin": null,
            "display": null,
            "left": null
          }
        },
        "fddff8ea14bf46ecacb6c66f66b6192b": {
          "model_module": "@jupyter-widgets/controls",
          "model_name": "FloatProgressModel",
          "state": {
            "_view_name": "ProgressView",
            "style": "IPY_MODEL_79c1b417770747f791d7e4b6a1fe962f",
            "_dom_classes": [],
            "description": "100%",
            "_model_name": "FloatProgressModel",
            "bar_style": "success",
            "max": 100000,
            "_view_module": "@jupyter-widgets/controls",
            "_model_module_version": "1.5.0",
            "value": 100000,
            "_view_count": null,
            "_view_module_version": "1.5.0",
            "orientation": "horizontal",
            "min": 0,
            "description_tooltip": null,
            "_model_module": "@jupyter-widgets/controls",
            "layout": "IPY_MODEL_68f618ab05244c01b97d442e9187b675"
          }
        },
        "b94aa2fdc50049deb6b01b2347fc7ab3": {
          "model_module": "@jupyter-widgets/controls",
          "model_name": "HTMLModel",
          "state": {
            "_view_name": "HTMLView",
            "style": "IPY_MODEL_f8f3e5ab8f584b0dab878c54e2ebaef0",
            "_dom_classes": [],
            "description": "",
            "_model_name": "HTMLModel",
            "placeholder": "​",
            "_view_module": "@jupyter-widgets/controls",
            "_model_module_version": "1.5.0",
            "value": " 100000/100000 [18:42&lt;00:00, 89.10it/s]",
            "_view_count": null,
            "_view_module_version": "1.5.0",
            "description_tooltip": null,
            "_model_module": "@jupyter-widgets/controls",
            "layout": "IPY_MODEL_d50d12f330f04ca5bd48526055b9e00b"
          }
        },
        "79c1b417770747f791d7e4b6a1fe962f": {
          "model_module": "@jupyter-widgets/controls",
          "model_name": "ProgressStyleModel",
          "state": {
            "_view_name": "StyleView",
            "_model_name": "ProgressStyleModel",
            "description_width": "initial",
            "_view_module": "@jupyter-widgets/base",
            "_model_module_version": "1.5.0",
            "_view_count": null,
            "_view_module_version": "1.2.0",
            "bar_color": null,
            "_model_module": "@jupyter-widgets/controls"
          }
        },
        "68f618ab05244c01b97d442e9187b675": {
          "model_module": "@jupyter-widgets/base",
          "model_name": "LayoutModel",
          "state": {
            "_view_name": "LayoutView",
            "grid_template_rows": null,
            "right": null,
            "justify_content": null,
            "_view_module": "@jupyter-widgets/base",
            "overflow": null,
            "_model_module_version": "1.2.0",
            "_view_count": null,
            "flex_flow": null,
            "width": null,
            "min_width": null,
            "border": null,
            "align_items": null,
            "bottom": null,
            "_model_module": "@jupyter-widgets/base",
            "top": null,
            "grid_column": null,
            "overflow_y": null,
            "overflow_x": null,
            "grid_auto_flow": null,
            "grid_area": null,
            "grid_template_columns": null,
            "flex": null,
            "_model_name": "LayoutModel",
            "justify_items": null,
            "grid_row": null,
            "max_height": null,
            "align_content": null,
            "visibility": null,
            "align_self": null,
            "height": null,
            "min_height": null,
            "padding": null,
            "grid_auto_rows": null,
            "grid_gap": null,
            "max_width": null,
            "order": null,
            "_view_module_version": "1.2.0",
            "grid_template_areas": null,
            "object_position": null,
            "object_fit": null,
            "grid_auto_columns": null,
            "margin": null,
            "display": null,
            "left": null
          }
        },
        "f8f3e5ab8f584b0dab878c54e2ebaef0": {
          "model_module": "@jupyter-widgets/controls",
          "model_name": "DescriptionStyleModel",
          "state": {
            "_view_name": "StyleView",
            "_model_name": "DescriptionStyleModel",
            "description_width": "",
            "_view_module": "@jupyter-widgets/base",
            "_model_module_version": "1.5.0",
            "_view_count": null,
            "_view_module_version": "1.2.0",
            "_model_module": "@jupyter-widgets/controls"
          }
        },
        "d50d12f330f04ca5bd48526055b9e00b": {
          "model_module": "@jupyter-widgets/base",
          "model_name": "LayoutModel",
          "state": {
            "_view_name": "LayoutView",
            "grid_template_rows": null,
            "right": null,
            "justify_content": null,
            "_view_module": "@jupyter-widgets/base",
            "overflow": null,
            "_model_module_version": "1.2.0",
            "_view_count": null,
            "flex_flow": null,
            "width": null,
            "min_width": null,
            "border": null,
            "align_items": null,
            "bottom": null,
            "_model_module": "@jupyter-widgets/base",
            "top": null,
            "grid_column": null,
            "overflow_y": null,
            "overflow_x": null,
            "grid_auto_flow": null,
            "grid_area": null,
            "grid_template_columns": null,
            "flex": null,
            "_model_name": "LayoutModel",
            "justify_items": null,
            "grid_row": null,
            "max_height": null,
            "align_content": null,
            "visibility": null,
            "align_self": null,
            "height": null,
            "min_height": null,
            "padding": null,
            "grid_auto_rows": null,
            "grid_gap": null,
            "max_width": null,
            "order": null,
            "_view_module_version": "1.2.0",
            "grid_template_areas": null,
            "object_position": null,
            "object_fit": null,
            "grid_auto_columns": null,
            "margin": null,
            "display": null,
            "left": null
          }
        }
      }
    }
  },
  "cells": [
    {
      "cell_type": "markdown",
      "metadata": {
        "id": "view-in-github",
        "colab_type": "text"
      },
      "source": [
        "<a href=\"https://colab.research.google.com/github/fabio-weydson/sandbox-datascience/blob/main/CE_1_2_por_Analise%20LDA.ipynb\" target=\"_parent\"><img src=\"https://colab.research.google.com/assets/colab-badge.svg\" alt=\"Open In Colab\"/></a>"
      ]
    },
    {
      "cell_type": "markdown",
      "metadata": {
        "id": "v_XmdRf_Qe3d"
      },
      "source": [
        "# Estudo de caso 1.2: Análise de LDA (*Alocação Latente de Dirichlet*)"
      ]
    },
    {
      "cell_type": "markdown",
      "metadata": {
        "id": "pszTrc8RQe3d"
      },
      "source": [
        "Bibliotecas para importar:"
      ]
    },
    {
      "cell_type": "code",
      "metadata": {
        "ExecuteTime": {
          "end_time": "2020-09-23T09:17:00.154062Z",
          "start_time": "2020-09-23T09:16:57.515400Z"
        },
        "init_cell": true,
        "id": "17gTCD0xQe3e",
        "colab": {
          "base_uri": "https://localhost:8080/"
        },
        "outputId": "ad1789ee-e7a7-48e7-beb2-dc78ab437c37"
      },
      "source": [
        "import sys, re, time, string, random, csv, argparse\n",
        "import requests\n",
        "import numpy as n\n",
        "import pandas as pd\n",
        "import matplotlib.pyplot as plt\n",
        "\n",
        "from scipy.special import psi\n",
        "\n",
        "#Bibliotecas de web scraping\n",
        "from bs4 import BeautifulSoup\n",
        "\n",
        "from tqdm.notebook import tqdm\n",
        "\n",
        "#Bibliotecas de NLP\n",
        "import nltk\n",
        "nltk.download('punkt')\n",
        "nltk.download('stopwords')\n",
        "from nltk.tokenize import wordpunct_tokenize\n",
        "\n",
        "\n",
        "print('\\nBibliotecas importadas com sucesso!')"
      ],
      "execution_count": null,
      "outputs": [
        {
          "output_type": "stream",
          "text": [
            "[nltk_data] Downloading package punkt to /root/nltk_data...\n",
            "[nltk_data]   Unzipping tokenizers/punkt.zip.\n",
            "[nltk_data] Downloading package stopwords to /root/nltk_data...\n",
            "[nltk_data]   Unzipping corpora/stopwords.zip.\n",
            "\n",
            "Bibliotecas importadas com sucesso!\n"
          ],
          "name": "stdout"
        }
      ]
    },
    {
      "cell_type": "markdown",
      "metadata": {
        "id": "rtJVGQOBQe3h"
      },
      "source": [
        "# Geração do banco de dados (*Web Scraping*)"
      ]
    },
    {
      "cell_type": "markdown",
      "metadata": {
        "id": "sxL1oYykQe3i"
      },
      "source": [
        "Primeiramente, precisamos obter a lista de professores do departamento de EECS e o laboratório ao qual pertencem. Para isso, podemos usar bibliotecas de _Web scraping_ como `BeautifulSoup`. Este tipo de biblioteca oferece funções para explorar o código fonte de páginas web e obter informações de seu conteúdo. "
      ]
    },
    {
      "cell_type": "code",
      "metadata": {
        "ExecuteTime": {
          "end_time": "2020-05-26T18:50:33.912560Z",
          "start_time": "2020-05-26T18:50:33.275504Z"
        },
        "id": "mvW0yp-mQe3i"
      },
      "source": [
        "#Url da lista de professores do EECS\n",
        "url_eecs_fac = 'https://www.eecs.mit.edu/people/faculty-advisors'\n",
        "#Baixando o código fonte da url referida\n",
        "html_data = requests.get(url_eecs_fac).text\n",
        "soup = BeautifulSoup(html_data, 'html.parser')\n",
        "#Salvando o nome e o laboratório em duas listas\n",
        "fac = [el.text for el in soup.find_all(class_ = 'field-content card-title')]\n",
        "labs = []\n",
        "for lab_raw in soup.find_all(class_ = 'views-field views-field-term-node-tid'):\n",
        "    try:\n",
        "        labs.append(lab_raw.find('a').text)\n",
        "    except:\n",
        "        labs.append('')\n",
        "#Unindo as duas listas e eliminando os professores que não pertencem a CSAIL, MTL, RLE ou LIDS\n",
        "fac_dept = list(zip(fac,labs))\n",
        "fac_dept = [tup for tup in fac_dept if tup[1] in set(['CSAIL','MTL','RLE','LIDS'])]\n",
        "\n",
        "print('Número de professores de EECS: {}'.format(len(fac_dept)))\n",
        "print(fac_dept[:5],'...')"
      ],
      "execution_count": null,
      "outputs": []
    },
    {
      "cell_type": "markdown",
      "metadata": {
        "id": "WX5QWgixQe3o"
      },
      "source": [
        "Definimos uma função para obter todos os artigos de _arXiv_ de um determinado autor."
      ]
    },
    {
      "cell_type": "code",
      "metadata": {
        "ExecuteTime": {
          "end_time": "2020-05-26T18:50:34.431309Z",
          "start_time": "2020-05-26T18:50:33.920015Z"
        },
        "id": "9H-UOKsMQe3o"
      },
      "source": [
        "def get_articles_for_author(author):\n",
        "    base_url = 'https://arxiv.org/search/?query=%22{name}%22&searchtype=author&abstracts=show&order=-announced_date_first&size=200'\n",
        "    author_query_url = base_url.format(name= author.replace(' ','+'))\n",
        "    query_result = requests.get(author_query_url).text\n",
        "    soup = BeautifulSoup(query_result, 'html.parser')\n",
        "    articles = soup.find_all(class_ = 'arxiv-result')\n",
        "\n",
        "    ids = [el.find(class_ = 'list-title is-inline-block').find('a').text.strip('arXiv:') for el in articles]\n",
        "    ids = [el.split('/')[1] if el.find('/')>=0 else el for el in ids]\n",
        "    \n",
        "    titles = [el.find(class_ = 'title is-5 mathjax').text.strip(' \\n') for el in articles]\n",
        "    authors = [[author.text for author in el.find(class_ = 'authors').find_all('a')] for el in articles]\n",
        "    abstracts = []\n",
        "    for el in articles:   \n",
        "        try:\n",
        "            abstracts.append(el.find(class_ = 'abstract-full has-text-grey-dark mathjax').text[9:-16])\n",
        "        except:\n",
        "            abstracts.append(el.find(class_ = 'abstract-short has-text-grey-dark mathjax').text[9:-16])\n",
        "    urls = [el.find(class_ = 'list-title is-inline-block').find('a')['href'] for el in articles]\n",
        "    \n",
        "    return ids, titles, authors, urls, abstracts\n",
        "\n",
        "author = fac_dept[23][0]\n",
        "print('Exemplo de um artigo de {}: \\n'.format(author))\n",
        "ids, titles, authors, urls, abstracts = get_articles_for_author(author)\n",
        "i = 0\n",
        "print('arXiv ID: {} (url: {} )'.format(ids[i],urls[i]))\n",
        "print('Título: {}'.format(titles[i]))\n",
        "print('Autores: {}'.format(authors[i]))\n",
        "print('---\\n{}\\n---'.format(abstracts[i]))"
      ],
      "execution_count": null,
      "outputs": []
    },
    {
      "cell_type": "markdown",
      "metadata": {
        "id": "PvhQtDjCQe3s"
      },
      "source": [
        "Uma vez que temos a função definida e comprovamos que ela funciona, podemos iterar a lista de professores para obter os artigos de cada professor."
      ]
    },
    {
      "cell_type": "code",
      "metadata": {
        "ExecuteTime": {
          "end_time": "2020-05-26T18:51:33.145868Z",
          "start_time": "2020-05-26T18:50:34.433174Z"
        },
        "id": "t8WoqigZQe3s"
      },
      "source": [
        "ids = []\n",
        "titles = []\n",
        "authors = []\n",
        "labs = []\n",
        "EECS_facs = []\n",
        "urls = []\n",
        "abstracts = []\n",
        "print('Baixando artigos de cada professor:')\n",
        "t0 = time.time()\n",
        "for i,fac in enumerate(fac_dept):\n",
        "    id_list, title_list, author_list, url_list, abstract_list  = get_articles_for_author(fac[0])\n",
        "    ids += id_list\n",
        "    titles += title_list\n",
        "    authors += author_list\n",
        "    urls += url_list\n",
        "    abstracts += abstract_list\n",
        "    labs += [fac[1]]*len(id_list)\n",
        "    EECS_facs += [fac[0]]*len(id_list)\n",
        "    if round(i/10) == i/10:\n",
        "        print('{}/{} autores'.format(i,len(fac_dept)))\n",
        "tf = time.time()\n",
        "print('{} artigos baixados em {:.2f}s'.format(len(ids),tf-t0))"
      ],
      "execution_count": null,
      "outputs": []
    },
    {
      "cell_type": "markdown",
      "metadata": {
        "id": "bopZxfTLQe3u"
      },
      "source": [
        "Podemos salvar toda a informação em uma tabela de `pandas`. A célula a seguir mostra como fazer isso:"
      ]
    },
    {
      "cell_type": "code",
      "metadata": {
        "ExecuteTime": {
          "end_time": "2020-05-26T18:51:33.183243Z",
          "start_time": "2020-05-26T18:51:33.149941Z"
        },
        "id": "hW2W9OAEQe3u"
      },
      "source": [
        "df = pd.DataFrame({'id':ids,'title':titles,'EECS_prof':EECS_facs,'lab':labs,'authors':authors,'url':urls,'abstract':abstracts})\n",
        "df[['id','lab']] = df[['id','lab']].drop_duplicates()\n",
        "df.head()"
      ],
      "execution_count": null,
      "outputs": []
    },
    {
      "cell_type": "markdown",
      "metadata": {
        "id": "xVSp-7U6Qe3x"
      },
      "source": [
        "## Obtenção do vocabulário "
      ]
    },
    {
      "cell_type": "markdown",
      "metadata": {
        "id": "Rvtv367GQe3x"
      },
      "source": [
        "Para poder utilizar as funções disponibilizadas no roteiro do estudo de caso, é necessário um arquivo de vocabulário no formato `.csv`. Podemos obtê-lo a partir do repositório do estudo original de LDA SVI:"
      ]
    },
    {
      "cell_type": "code",
      "metadata": {
        "ExecuteTime": {
          "end_time": "2020-05-26T18:51:33.389396Z",
          "start_time": "2020-05-26T18:51:33.186212Z"
        },
        "id": "Cd7uZr8zQe3y"
      },
      "source": [
        "url = 'https://raw.githubusercontent.com/blei-lab/onlineldavb/master/dictnostops.txt'\n",
        "vocab_list = pd.Series(requests.get(url).text.split('\\n')[:-1])\n",
        "vocab = {}\n",
        "for index, word in enumerate(vocab_list):\n",
        "    vocab[word] = index\n",
        "vocab_list"
      ],
      "execution_count": null,
      "outputs": []
    },
    {
      "cell_type": "markdown",
      "metadata": {
        "ExecuteTime": {
          "end_time": "2020-05-20T21:11:08.244070Z",
          "start_time": "2020-05-20T21:11:08.241636Z"
        },
        "id": "I4sLQrz0Qe30"
      },
      "source": [
        "# LDA-SVI"
      ]
    },
    {
      "cell_type": "markdown",
      "metadata": {
        "ExecuteTime": {
          "end_time": "2020-05-25T21:42:27.687982Z",
          "start_time": "2020-05-25T21:42:27.685864Z"
        },
        "id": "AlpT9pV7Qe30"
      },
      "source": [
        "\n",
        "## Funções auxiliares"
      ]
    },
    {
      "cell_type": "markdown",
      "metadata": {
        "heading_collapsed": true,
        "id": "dqheWHoIQe33"
      },
      "source": [
        "### Geração de atributos de cada texto (recontagem de palavras)"
      ]
    },
    {
      "cell_type": "code",
      "metadata": {
        "ExecuteTime": {
          "end_time": "2020-05-26T18:51:33.480797Z",
          "start_time": "2020-05-26T18:51:33.399279Z"
        },
        "hidden": true,
        "id": "qjN28qlFQe33"
      },
      "source": [
        "def parseDocument(doc, vocab):\n",
        "    wordslist = list()\n",
        "    countslist = list()\n",
        "    doc = doc.lower()\n",
        "    tokens = wordpunct_tokenize(doc)\n",
        "    \n",
        "    dictionary = dict()\n",
        "    for word in tokens:\n",
        "        if word in vocab:\n",
        "            wordtk = vocab[word]\n",
        "            if wordtk not in dictionary:\n",
        "                dictionary[wordtk] = 1\n",
        "            else:\n",
        "                dictionary[wordtk] += 1\n",
        "\n",
        "    wordslist.append(list(dictionary.keys()))\n",
        "    countslist.append(list(dictionary.values()))\n",
        "    return (wordslist[0], countslist[0])"
      ],
      "execution_count": null,
      "outputs": []
    },
    {
      "cell_type": "markdown",
      "metadata": {
        "heading_collapsed": true,
        "id": "f5MuLE7qQe35"
      },
      "source": [
        "### Cálculo de distribuições de probabilidade"
      ]
    },
    {
      "cell_type": "code",
      "metadata": {
        "ExecuteTime": {
          "end_time": "2020-05-26T18:51:33.489385Z",
          "start_time": "2020-05-26T18:51:33.482373Z"
        },
        "hidden": true,
        "id": "Sltn_TgzQe36"
      },
      "source": [
        "def dirichlet_expectation(alpha):\n",
        "    '''\n",
        "    For a vector theta ~ Dir(alpha), computes E[log(theta)] given alpha.\n",
        "    \n",
        "    Taken from https://github.com/blei-lab/onlineldavb/blob/master/onlineldavb.py\n",
        "    '''\n",
        "    if (len(alpha.shape) == 1):\n",
        "        return (psi(alpha) - psi(n.sum(alpha)))\n",
        "    return (psi(alpha) - psi(n.sum(alpha, 1))[:, n.newaxis])\n",
        "\n",
        "def beta_expectation(a, b, k):\n",
        "    mysum = psi(a + b)\n",
        "    Elog_a = psi(a) - mysum\n",
        "    Elog_b = psi(b) - mysum\n",
        "    Elog_beta = n.zeros(k)\n",
        "    Elog_beta[0] = Elog_a[0]\n",
        "    # print Elog_beta\n",
        "    for i in range(1, k):\n",
        "        Elog_beta[i] = Elog_a[i] + n.sum(Elog_b[0:i])\n",
        "        # print Elog_beta\n",
        "    # print Elog_beta\n",
        "    return Elog_beta\n",
        "\n",
        "def plottrace(x, Y, K, n, perp):\n",
        "    for i in range(K):\n",
        "        plt.plot(x, Y[i], label = \"Topic %i\" %(i+1))\n",
        "\n",
        "    plt.xlabel(\"Number of Iterations\")\n",
        "    plt.ylabel(\"Probability of Each topic\")\n",
        "    plt.legend()\n",
        "    plt.title(\"Trace plot for topic probabilities\")\n",
        "    plt.savefig(\"temp/plot_%i_%i_%f.png\" %(K, n, perp))"
      ],
      "execution_count": null,
      "outputs": []
    },
    {
      "cell_type": "markdown",
      "metadata": {
        "id": "ygL8w3ePQe38"
      },
      "source": [
        "## Implementação da LDA através da SVI"
      ]
    },
    {
      "cell_type": "markdown",
      "metadata": {
        "id": "xQO6bGQTQe38"
      },
      "source": [
        "Obtemos a implementação da LDA através da SVI das fontes mencionadas no roteiro:\n",
        "* https://github.com/qlai/stochasticLDA\n",
        "* https://github.com/blei-lab/onlineldavb"
      ]
    },
    {
      "cell_type": "code",
      "metadata": {
        "ExecuteTime": {
          "end_time": "2020-05-26T18:51:33.528694Z",
          "start_time": "2020-05-26T18:51:33.490967Z"
        },
        "id": "gjUOfgycQe38"
      },
      "source": [
        "n.random.seed(10000001)\n",
        "meanchangethresh = 1e-3\n",
        "MAXITER = 10000\n",
        "\n",
        "class SVILDA():\n",
        "    \"\"\"\n",
        "        Arguments:\n",
        "        K: Number of topics\n",
        "        vocab: A set of words to recognize. When analyzing documents, any word\n",
        "           not in this set will be ignored.\n",
        "        D: Total number of documents in the population. For a fixed corpus,\n",
        "           this is the size of the corpus. In the truly online setting, this\n",
        "           can be an estimate of the maximum number of documents that\n",
        "           could ever be seen.\n",
        "        alpha: Hyperparameter for prior on weight vectors theta\n",
        "        eta: Hyperparameter for prior on topics beta\n",
        "        tau: A (positive) learning parameter that downweights early iterations\n",
        "        kappa: Learning rate: exponential decay rate---should be between\n",
        "             (0.5, 1.0] to guarantee asymptotic convergence.\n",
        "        Note that if you pass the same set of D documents in every time and\n",
        "        set kappa=0 this class can also be used to do batch VB.\n",
        "    \"\"\"\n",
        "        \n",
        "    def __init__(self, vocab, K, D, alpha, eta, tau, kappa, docs, iterations, parsed = False):\n",
        "        self._vocab = vocab\n",
        "        self._V = len(vocab)\n",
        "        self._K = K\n",
        "        self._D = D\n",
        "        self._alpha = alpha\n",
        "        self._eta = eta\n",
        "        self._tau = tau\n",
        "        self._kappa = kappa\n",
        "        self._lambda = 1* n.random.gamma(100., 1./100., (self._K, self._V))\n",
        "        self._Elogbeta = dirichlet_expectation(self._lambda)\n",
        "        self._expElogbeta = n.exp(self._Elogbeta)\n",
        "        self._docs = docs\n",
        "        self.ct = 0\n",
        "        self._iterations = iterations\n",
        "        self._parsed = parsed\n",
        "        self._trace_lambda = {}\n",
        "        for i in range(self._K):\n",
        "            self._trace_lambda[i] = [self.computeProbabilities()[i]]\n",
        "        self._x = [0]\n",
        "\n",
        "    def updateLocal(self, doc): #word_dn is an indicator variable with dimension V\n",
        "        (words, counts) = doc\n",
        "        newdoc = []\n",
        "        N_d = sum(counts)\n",
        "        phi_d = n.zeros((self._K, N_d))\n",
        "        gamma_d = n.random.gamma(100., 1./100., (self._K))\n",
        "        Elogtheta_d = dirichlet_expectation(gamma_d)\n",
        "        expElogtheta_d = n.exp(Elogtheta_d)\n",
        "        for i, item in enumerate(counts):\n",
        "            for j in range(item):\n",
        "                newdoc.append(words[i])\n",
        "        assert len(newdoc) == N_d, \"error\"\n",
        "\n",
        "        for i in range(self._iterations):\n",
        "            for m, word in enumerate(newdoc):\n",
        "                phi_d[:, m] = n.multiply(expElogtheta_d, self._expElogbeta[:, word]) + 1e-100\n",
        "                phi_d[:, m] = phi_d[:, m]/n.sum(phi_d[:, m])\n",
        "\n",
        "            gamma_new = self._alpha + n.sum(phi_d, axis = 1)\n",
        "            meanchange = n.mean(abs(gamma_d - gamma_new))\n",
        "            if (meanchange < meanchangethresh):\n",
        "                break\n",
        "\n",
        "            gamma_d = gamma_new\n",
        "            Elogtheta_d = dirichlet_expectation(gamma_d)\n",
        "            expElogtheta_d = n.exp(Elogtheta_d)\n",
        "\n",
        "        newdoc = n.asarray(newdoc)\n",
        "        return phi_d, newdoc, gamma_d\n",
        "\n",
        "    def updateGlobal(self, phi_d, doc):\n",
        "\n",
        "        lambda_d = n.zeros((self._K, self._V))\n",
        "\n",
        "        for k in range(self._K):\n",
        "            phi_dk = n.zeros(self._V)\n",
        "            for m, word in enumerate(doc):\n",
        "                phi_dk[word] += phi_d[k][m] \n",
        "            lambda_d[k] = self._eta + self._D * phi_dk\n",
        "        rho = (self.ct + self._tau) **(-self._kappa)\n",
        "        self._lambda = (1-rho) * self._lambda + rho * lambda_d\n",
        "        self._Elogbeta = dirichlet_expectation(self._lambda)\n",
        "        self._expElogbeta = n.exp(self._Elogbeta)\n",
        "\n",
        "        if self.ct % 10 == 9:\n",
        "            for i in range(self._K):\n",
        "                self._trace_lambda[i].append(self.computeProbabilities()[i])\n",
        "            self._x.append(self.ct)\n",
        "\n",
        "    def runSVI(self):\n",
        "        for i in tqdm(range(self._iterations)):\n",
        "            randint = random.randint(0, self._D-1)\n",
        "            if self._parsed == False:\n",
        "                doc = parseDocument(self._docs[randint],self._vocab)\n",
        "            phi_doc, newdoc, gamma_d = self.updateLocal(doc)\n",
        "            self.updateGlobal(phi_doc, newdoc)\n",
        "            self.ct += 1\n",
        "                \n",
        "    def computeProbabilities(self):\n",
        "        prob_topics = n.sum(self._lambda, axis = 1)\n",
        "        prob_topics = prob_topics/n.sum(prob_topics)\n",
        "        return prob_topics\n",
        "\n",
        "    def getTopics(self, docs = None):\n",
        "        prob_topics = self.computeProbabilities()\n",
        "        prob_words = n.sum(self._lambda, axis = 0)\n",
        "\n",
        "        if docs == None:\n",
        "            docs = self._docs\n",
        "        results = n.zeros((len(docs), self._K))\n",
        "        for i, doc in enumerate(docs):\n",
        "            parseddoc = parseDocument(doc, self._vocab)\n",
        "\n",
        "            for j in range(self._K):\n",
        "                aux = [self._lambda[j][word]/prob_words[word] for word in parseddoc[0]]\n",
        "                doc_probability = [n.log(aux[k]) * parseddoc[1][k] for k in range(len(aux))]\n",
        "                results[i][j] = sum(doc_probability) + n.log(prob_topics[j])\n",
        "        finalresults = n.zeros(len(docs))\n",
        "        for k in range(len(docs)):\n",
        "            finalresults[k] = n.argmax(results[k])\n",
        "        return finalresults, prob_topics\n",
        "\n",
        "    def calcPerplexity(self, docs = None):\n",
        "        perplexity = 0.\n",
        "        doclen = 0.\n",
        "        if docs == None:\n",
        "            docs =  self._docs\n",
        "        for doc in docs:\n",
        "            parseddoc = parseDocument(doc, self._vocab)\n",
        "            _, newdoc, gamma_d = self.updateLocal(parseddoc)\n",
        "            approx_mixture = n.dot(gamma_d, self._lambda)\n",
        "            # print(n.shape(approx_mixture))\n",
        "            approx_mixture = approx_mixture / n.sum(approx_mixture)\n",
        "            log_doc_prob = 0.\n",
        "            for word in newdoc:\n",
        "                log_doc_prob += n.log(approx_mixture[word])\n",
        "            perplexity += log_doc_prob\n",
        "            doclen += len(newdoc)\n",
        "            # print(perplexity, doclen)\n",
        "        perplexity = n.exp( - perplexity / doclen)\n",
        "        print(perplexity)\n",
        "        return perplexity\n",
        "\n",
        "    def plotTopics(self, perp):\n",
        "        plottrace(self._x, self._trace_lambda, self._K, self._iterations, perp)\n",
        "\n",
        "def test(k, iterations):\n",
        "\n",
        "    docs = getalldocs(\"alldocs2.txt\")\n",
        "    vocab = getVocab(\"dictionary2.csv\")\n",
        "    \n",
        "    testset = SVILDA(vocab = vocab, K = k, D = len(docs), alpha = 0.2,\n",
        "                     eta = 0.2, tau = 1024, kappa = 0.7, docs = docs,\n",
        "                     iterations= iterations)\n",
        "    testset.runSVI()\n",
        "    finallambda = testset._lambda\n",
        "\n",
        "    heldoutdocs = getalldocs(\"testdocs.txt\")\n",
        "    perplexity = testset.calcPerplexity(docs = heldoutdocs)\n",
        "\n",
        "    with open(\"temp/%i_%i_%f_results.csv\" %(k, iterations, perplexity), \"w+\") as f:\n",
        "        writer = csv.writer(f)\n",
        "        for i in range(k):\n",
        "            bestwords = sorted(range(len(finallambda[i])), key=lambda j:finallambda[i, j])\n",
        "            bestwords.reverse()\n",
        "            writer.writerow([i])\n",
        "            for j, word in enumerate(bestwords):\n",
        "                writer.writerow([word, vocab.keys()[vocab.values().index(word)]])\n",
        "                if j >= 15:\n",
        "                    break\n",
        "    topics, topic_probs = testset.getTopics()\n",
        "    testset.plotTopics(perplexity)\n",
        "\n",
        "    for kk in range(0, len(finallambda)):\n",
        "        lambdak = list(finallambda[kk, :])\n",
        "        lambdak = lambdak / sum(lambdak)\n",
        "        temp = zip(lambdak, range(0, len(lambdak)))\n",
        "        temp = sorted(temp, key = lambda x: x[0], reverse=True)\n",
        "        # print temp\n",
        "        print('topic %d:' % (kk))\n",
        "        # feel free to change the \"53\" here to whatever fits your screen nicely.\n",
        "        for i in range(0, 10):\n",
        "            print('%20s  \\t---\\t  %.4f' % (vocab.keys()[vocab.values().index(temp[i][1])], temp[i][0]))\n",
        "\n",
        "    with open(\"temp/%i_%i_%f_raw.txt\" %(k, iterations, perplexity), \"w+\") as f:\n",
        "        # f.write(finallambda)\n",
        "        for result in topics:\n",
        "            f.write(str(result) + \" \\n\")\n",
        "        f.write(str(topic_probs) + \" \\n\")"
      ],
      "execution_count": null,
      "outputs": []
    },
    {
      "cell_type": "markdown",
      "metadata": {
        "id": "t5mt0fFfQe3_"
      },
      "source": [
        "# Resultados"
      ]
    },
    {
      "cell_type": "markdown",
      "metadata": {
        "ExecuteTime": {
          "end_time": "2020-05-26T18:03:47.654905Z",
          "start_time": "2020-05-26T18:03:47.651034Z"
        },
        "id": "aJDd0FCVQe3_"
      },
      "source": [
        "Uma vez definidas todas as funções necessárias, só falta executar a análise de LDA:\n",
        "\n",
        "(esta análise levará uns 25 minutos... seja paciente!)"
      ]
    },
    {
      "cell_type": "code",
      "metadata": {
        "ExecuteTime": {
          "end_time": "2020-05-26T19:04:50.429919Z",
          "start_time": "2020-05-26T18:55:09.248187Z"
        },
        "id": "46G_vbTVQe4A",
        "colab": {
          "base_uri": "https://localhost:8080/",
          "height": 83,
          "referenced_widgets": [
            "8697e1e89be84f5abe3b41179a395822",
            "57734185bdf74733bda9093a07144816",
            "fddff8ea14bf46ecacb6c66f66b6192b",
            "b94aa2fdc50049deb6b01b2347fc7ab3",
            "79c1b417770747f791d7e4b6a1fe962f",
            "68f618ab05244c01b97d442e9187b675",
            "f8f3e5ab8f584b0dab878c54e2ebaef0",
            "d50d12f330f04ca5bd48526055b9e00b"
          ]
        },
        "outputId": "555eded8-e494-4d2e-a497-d4f29e039f6c"
      },
      "source": [
        "mode = 'normal'\n",
        "K = 5\n",
        "alpha = 0.2\n",
        "eta = 0.2\n",
        "tau = 1024\n",
        "kappa = 0.7\n",
        "iterations = 100000\n",
        "\n",
        "if mode == \"test\":\n",
        "    test(K, iterations)\n",
        "if mode == \"normal\":\n",
        "    docs = df.abstract.to_list()\n",
        "    D = len(docs)\n",
        "    print('number of docs: {}'.format(D))\n",
        "    lda = SVILDA(vocab = vocab, K = K, D = D, alpha = alpha, \n",
        "                 eta = eta, tau = tau, kappa = kappa, docs = docs, \n",
        "                 iterations = iterations)\n",
        "    lda.runSVI()\n",
        "    lda"
      ],
      "execution_count": null,
      "outputs": [
        {
          "output_type": "stream",
          "text": [
            "number of docs: 3215\n"
          ],
          "name": "stdout"
        },
        {
          "output_type": "display_data",
          "data": {
            "application/vnd.jupyter.widget-view+json": {
              "model_id": "8697e1e89be84f5abe3b41179a395822",
              "version_minor": 0,
              "version_major": 2
            },
            "text/plain": [
              "HBox(children=(FloatProgress(value=0.0, max=100000.0), HTML(value='')))"
            ]
          },
          "metadata": {
            "tags": []
          }
        },
        {
          "output_type": "stream",
          "text": [
            "\n"
          ],
          "name": "stdout"
        }
      ]
    },
    {
      "cell_type": "markdown",
      "metadata": {
        "id": "cBPMG-kXQe4C"
      },
      "source": [
        "Podemos observar a distribuição de probabilidades de cada palavra do vocabulário com respeito a cada tema identificado nos textos:"
      ]
    },
    {
      "cell_type": "code",
      "metadata": {
        "ExecuteTime": {
          "end_time": "2020-05-26T19:04:54.002460Z",
          "start_time": "2020-05-26T19:04:53.982844Z"
        },
        "id": "COTEJXh0Qe4D",
        "colab": {
          "base_uri": "https://localhost:8080/",
          "height": 424
        },
        "outputId": "98793db5-a07f-4121-84b6-a77be50d34ef"
      },
      "source": [
        "lambda_df = pd.DataFrame({'word':list(vocab.keys())})\n",
        "for i in range(K):\n",
        "    lambda_df['Topic {}'.format(i+1)] = lda._lambda[i,:]\n",
        "lambda_df"
      ],
      "execution_count": null,
      "outputs": [
        {
          "output_type": "execute_result",
          "data": {
            "text/html": [
              "<div>\n",
              "<style scoped>\n",
              "    .dataframe tbody tr th:only-of-type {\n",
              "        vertical-align: middle;\n",
              "    }\n",
              "\n",
              "    .dataframe tbody tr th {\n",
              "        vertical-align: top;\n",
              "    }\n",
              "\n",
              "    .dataframe thead th {\n",
              "        text-align: right;\n",
              "    }\n",
              "</style>\n",
              "<table border=\"1\" class=\"dataframe\">\n",
              "  <thead>\n",
              "    <tr style=\"text-align: right;\">\n",
              "      <th></th>\n",
              "      <th>word</th>\n",
              "      <th>Topic 1</th>\n",
              "      <th>Topic 2</th>\n",
              "      <th>Topic 3</th>\n",
              "      <th>Topic 4</th>\n",
              "      <th>Topic 5</th>\n",
              "    </tr>\n",
              "  </thead>\n",
              "  <tbody>\n",
              "    <tr>\n",
              "      <th>0</th>\n",
              "      <td>writings</td>\n",
              "      <td>0.200000</td>\n",
              "      <td>0.200000</td>\n",
              "      <td>0.200000</td>\n",
              "      <td>0.200000</td>\n",
              "      <td>0.200000</td>\n",
              "    </tr>\n",
              "    <tr>\n",
              "      <th>1</th>\n",
              "      <td>yellow</td>\n",
              "      <td>0.205041</td>\n",
              "      <td>2.561710</td>\n",
              "      <td>0.200012</td>\n",
              "      <td>0.205053</td>\n",
              "      <td>0.200681</td>\n",
              "    </tr>\n",
              "    <tr>\n",
              "      <th>2</th>\n",
              "      <td>four</td>\n",
              "      <td>0.206024</td>\n",
              "      <td>0.206503</td>\n",
              "      <td>0.206784</td>\n",
              "      <td>67.922909</td>\n",
              "      <td>0.218093</td>\n",
              "    </tr>\n",
              "    <tr>\n",
              "      <th>3</th>\n",
              "      <td>woods</td>\n",
              "      <td>0.200000</td>\n",
              "      <td>0.200000</td>\n",
              "      <td>0.200000</td>\n",
              "      <td>0.200000</td>\n",
              "      <td>0.200000</td>\n",
              "    </tr>\n",
              "    <tr>\n",
              "      <th>4</th>\n",
              "      <td>hanging</td>\n",
              "      <td>0.200006</td>\n",
              "      <td>2.286337</td>\n",
              "      <td>0.200011</td>\n",
              "      <td>0.202256</td>\n",
              "      <td>0.200003</td>\n",
              "    </tr>\n",
              "    <tr>\n",
              "      <th>...</th>\n",
              "      <td>...</td>\n",
              "      <td>...</td>\n",
              "      <td>...</td>\n",
              "      <td>...</td>\n",
              "      <td>...</td>\n",
              "      <td>...</td>\n",
              "    </tr>\n",
              "    <tr>\n",
              "      <th>7697</th>\n",
              "      <td>upwards</td>\n",
              "      <td>0.200865</td>\n",
              "      <td>0.209805</td>\n",
              "      <td>0.227811</td>\n",
              "      <td>0.202752</td>\n",
              "      <td>2.228676</td>\n",
              "    </tr>\n",
              "    <tr>\n",
              "      <th>7698</th>\n",
              "      <td>ranks</td>\n",
              "      <td>0.214025</td>\n",
              "      <td>0.200305</td>\n",
              "      <td>0.201769</td>\n",
              "      <td>7.905509</td>\n",
              "      <td>0.205591</td>\n",
              "    </tr>\n",
              "    <tr>\n",
              "      <th>7699</th>\n",
              "      <td>indirectly</td>\n",
              "      <td>0.206847</td>\n",
              "      <td>0.200437</td>\n",
              "      <td>0.200013</td>\n",
              "      <td>3.893451</td>\n",
              "      <td>0.200879</td>\n",
              "    </tr>\n",
              "    <tr>\n",
              "      <th>7700</th>\n",
              "      <td>volumes</td>\n",
              "      <td>0.200935</td>\n",
              "      <td>9.548821</td>\n",
              "      <td>0.202515</td>\n",
              "      <td>0.206820</td>\n",
              "      <td>0.206843</td>\n",
              "    </tr>\n",
              "    <tr>\n",
              "      <th>7701</th>\n",
              "      <td>allein</td>\n",
              "      <td>0.200000</td>\n",
              "      <td>0.200000</td>\n",
              "      <td>0.200000</td>\n",
              "      <td>0.200000</td>\n",
              "      <td>0.200000</td>\n",
              "    </tr>\n",
              "  </tbody>\n",
              "</table>\n",
              "<p>7702 rows × 6 columns</p>\n",
              "</div>"
            ],
            "text/plain": [
              "            word   Topic 1   Topic 2   Topic 3    Topic 4   Topic 5\n",
              "0       writings  0.200000  0.200000  0.200000   0.200000  0.200000\n",
              "1         yellow  0.205041  2.561710  0.200012   0.205053  0.200681\n",
              "2           four  0.206024  0.206503  0.206784  67.922909  0.218093\n",
              "3          woods  0.200000  0.200000  0.200000   0.200000  0.200000\n",
              "4        hanging  0.200006  2.286337  0.200011   0.202256  0.200003\n",
              "...          ...       ...       ...       ...        ...       ...\n",
              "7697     upwards  0.200865  0.209805  0.227811   0.202752  2.228676\n",
              "7698       ranks  0.214025  0.200305  0.201769   7.905509  0.205591\n",
              "7699  indirectly  0.206847  0.200437  0.200013   3.893451  0.200879\n",
              "7700     volumes  0.200935  9.548821  0.202515   0.206820  0.206843\n",
              "7701      allein  0.200000  0.200000  0.200000   0.200000  0.200000\n",
              "\n",
              "[7702 rows x 6 columns]"
            ]
          },
          "metadata": {
            "tags": []
          },
          "execution_count": 11
        }
      ]
    },
    {
      "cell_type": "markdown",
      "metadata": {
        "id": "qI0Gi1PWQe4F"
      },
      "source": [
        "Para entender como o algoritmo de LDA calculou a distribuição de probabilidades de cada tema, podemos observar as 10 palabras com maior probabilidade por tema:"
      ]
    },
    {
      "cell_type": "code",
      "metadata": {
        "ExecuteTime": {
          "end_time": "2020-05-26T19:04:58.336169Z",
          "start_time": "2020-05-26T19:04:57.118924Z"
        },
        "id": "FCd7s7J3Qe4F",
        "colab": {
          "base_uri": "https://localhost:8080/"
        },
        "outputId": "86555d08-173d-41ef-8323-cf8de8ebe0ca"
      },
      "source": [
        "finalresults, prob_topics = lda.getTopics()\n",
        "\n",
        "for column,prob in list(zip(lambda_df.columns[1:],prob_topics)):\n",
        "    print('{} probability: {:.2f}%'.format(column,prob*100))\n",
        "    print(lambda_df.nlargest(10, [column])[['word',column]],'\\n')"
      ],
      "execution_count": null,
      "outputs": [
        {
          "output_type": "stream",
          "text": [
            "Topic 1 probability: 6.36%\n",
            "          word     Topic 1\n",
            "4583   channel  486.660641\n",
            "2076   network  390.603532\n",
            "6797      rate  354.659717\n",
            "6061  capacity  251.532641\n",
            "1401     codes  217.232116\n",
            "6557      flow  181.154358\n",
            "3264      game  169.224248\n",
            "1626    length  164.130751\n",
            "3084    scheme  159.326670\n",
            "6081     games  155.264048 \n",
            "\n",
            "Topic 2 probability: 5.98%\n",
            "          word     Topic 2\n",
            "879      image  425.779146\n",
            "4759    images  291.663518\n",
            "650   training  146.678069\n",
            "7659  transfer  144.103454\n",
            "2959   trained  125.020007\n",
            "6481       pre  108.067603\n",
            "6192   attacks  102.952631\n",
            "4816      deep   90.626146\n",
            "5640  material   88.365916\n",
            "599      years   87.146943 \n",
            "\n",
            "Topic 3 probability: 3.20%\n",
            "           word     Topic 3\n",
            "5548       text  189.933107\n",
            "2609    message  127.591768\n",
            "2304   security   96.899122\n",
            "2510      write   78.861505\n",
            "941   reasoning   72.762313\n",
            "2789       read   70.749215\n",
            "5413    regions   63.312920\n",
            "5617       bulk   58.884202\n",
            "4014   messages   53.661031\n",
            "4887     public   53.047764 \n",
            "\n",
            "Topic 4 probability: 70.36%\n",
            "          word      Topic 4\n",
            "6637     model  1924.354284\n",
            "3524      data  1636.228869\n",
            "4605      show  1530.632877\n",
            "493       time  1514.446543\n",
            "1884   problem  1449.179783\n",
            "2717  learning  1363.847631\n",
            "1428   results  1120.660412\n",
            "3590     based  1110.028738\n",
            "4909       two  1067.961634\n",
            "1067     paper  1043.239876 \n",
            "\n",
            "Topic 5 probability: 14.10%\n",
            "         word     Topic 5\n",
            "3013  systems  555.004710\n",
            "1646   system  520.413444\n",
            "1538     high  390.875235\n",
            "5876      end  331.553975\n",
            "5361  objects  311.546990\n",
            "5015   energy  293.236722\n",
            "6799   design  287.433363\n",
            "4231    human  270.164588\n",
            "3443  control  250.095818\n",
            "229    object  238.253815 \n",
            "\n"
          ],
          "name": "stdout"
        }
      ]
    },
    {
      "cell_type": "markdown",
      "metadata": {
        "ExecuteTime": {
          "end_time": "2020-05-26T18:06:52.651043Z",
          "start_time": "2020-05-26T18:06:52.646623Z"
        },
        "id": "fzTBn0pxQe4H"
      },
      "source": [
        "Finalmente, tambem podemos observar como ficou a distribuição de temas sobre o conjunto dos documentos baixados:"
      ]
    },
    {
      "cell_type": "code",
      "metadata": {
        "ExecuteTime": {
          "end_time": "2020-05-26T19:04:58.893415Z",
          "start_time": "2020-05-26T19:04:58.834011Z"
        },
        "id": "Gi2XptSZQe4H",
        "colab": {
          "base_uri": "https://localhost:8080/",
          "height": 254
        },
        "outputId": "c3d683ea-7655-4e96-9f22-9409a756b532"
      },
      "source": [
        "labels = lambda_df.columns[1:]\n",
        "sizes = prob_topics*100\n",
        "explode = (0.1, 0.1, 0.1,0.1, 0.1) \n",
        "\n",
        "fig1, ax1 = plt.subplots()\n",
        "ax1.pie(sizes, explode=explode, labels=labels, autopct='%1.1f%%',\n",
        "        shadow=True, startangle=90)\n",
        "ax1.axis('equal')  # Equal aspect ratio ensures that pie is drawn as a circle.\n",
        "\n",
        "plt.show()"
      ],
      "execution_count": null,
      "outputs": [
        {
          "output_type": "display_data",
          "data": {
            "image/png": "[encoded data removed]",
            "text/plain": [
              "<Figure size 432x288 with 1 Axes>"
            ]
          },
          "metadata": {
            "tags": []
          }
        }
      ]
    },
    {
      "cell_type": "markdown",
      "metadata": {
        "ExecuteTime": {
          "end_time": "2020-05-26T17:58:04.447402Z",
          "start_time": "2020-05-26T17:58:04.445009Z"
        },
        "id": "yGEHnz4kQe4J"
      },
      "source": [
        "# Tarefa extra"
      ]
    },
    {
      "cell_type": "markdown",
      "metadata": {
        "ExecuteTime": {
          "end_time": "2020-05-26T17:10:57.743983Z",
          "start_time": "2020-05-26T17:10:57.741178Z"
        },
        "id": "agKNlRxGQe4K"
      },
      "source": [
        "Tentar reproduzir o Gráfico 2 do roteiro do Estudo de caso 1.2, onde se analisa os temas predominantes em cada laboratório."
      ]
    }
  ]
}