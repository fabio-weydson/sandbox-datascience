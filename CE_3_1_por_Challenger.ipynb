{
  "nbformat": 4,
  "nbformat_minor": 0,
  "metadata": {
    "hide_input": false,
    "kernelspec": {
      "display_name": "Python 3",
      "language": "python",
      "name": "python3"
    },
    "language_info": {
      "codemirror_mode": {
        "name": "ipython",
        "version": 3
      },
      "file_extension": ".py",
      "mimetype": "text/x-python",
      "name": "python",
      "nbconvert_exporter": "python",
      "pygments_lexer": "ipython3",
      "version": "3.7.7"
    },
    "toc": {
      "base_numbering": 1,
      "nav_menu": {},
      "number_sections": true,
      "sideBar": true,
      "skip_h1_title": false,
      "title_cell": "Table of Contents",
      "title_sidebar": "Contents",
      "toc_cell": true,
      "toc_position": {},
      "toc_section_display": true,
      "toc_window_display": false
    },
    "varInspector": {
      "cols": {
        "lenName": 16,
        "lenType": 16,
        "lenVar": 40
      },
      "kernels_config": {
        "python": {
          "delete_cmd_postfix": "",
          "delete_cmd_prefix": "del ",
          "library": "var_list.py",
          "varRefreshCmd": "print(var_dic_list())"
        },
        "r": {
          "delete_cmd_postfix": ") ",
          "delete_cmd_prefix": "rm(",
          "library": "var_list.r",
          "varRefreshCmd": "cat(var_dic_list()) "
        }
      },
      "types_to_exclude": [
        "module",
        "function",
        "builtin_function_or_method",
        "instance",
        "_Feature"
      ],
      "window_display": true
    },
    "colab": {
      "name": "CE_3.1_por_Challenger.ipynb",
      "provenance": [],
      "collapsed_sections": [],
      "include_colab_link": true
    }
  },
  "cells": [
    {
      "cell_type": "markdown",
      "metadata": {
        "id": "view-in-github",
        "colab_type": "text"
      },
      "source": [
        "<a href=\"https://colab.research.google.com/github/fabio-weydson/sandbox-datascience/blob/main/CE_3_1_por_Challenger.ipynb\" target=\"_parent\"><img src=\"https://colab.research.google.com/assets/colab-badge.svg\" alt=\"Open In Colab\"/></a>"
      ]
    },
    {
      "cell_type": "markdown",
      "metadata": {
        "id": "z0QypjIGgSYn"
      },
      "source": [
        "# Estudo de caso 3.1: O lançamento do Challenger"
      ]
    },
    {
      "cell_type": "markdown",
      "metadata": {
        "id": "h-KtnmyigSYn"
      },
      "source": [
        "Configuração do *notebook*:"
      ]
    },
    {
      "cell_type": "markdown",
      "metadata": {
        "id": "fipSNCXpowVn"
      },
      "source": [
        "Sincronize sua conta do Google. Para isso, siga o link que aparece na saída da seguinte célula uma vez executada. Copie o código que aparece na tela e insira-o na saída da célula. Assim que visualizar a mensagem: `Google Drive sincronizado com sucesso!`poderá continuar executando o restante das células."
      ]
    },
    {
      "cell_type": "code",
      "metadata": {
        "id": "kA_1Ai6OowdQ",
        "colab": {
          "base_uri": "https://localhost:8080/"
        },
        "outputId": "a8c0b4c6-3430-4442-c4ac-541f30c8d0e7"
      },
      "source": [
        "from google.colab import auth\n",
        "auth.authenticate_user()\n",
        "\n",
        "from pydrive.auth import GoogleAuth\n",
        "from pydrive.drive import GoogleDrive\n",
        "from google.colab import auth\n",
        "from oauth2client.client import GoogleCredentials\n",
        "\n",
        "gauth = GoogleAuth()\n",
        "gauth.credentials = GoogleCredentials.get_application_default()\n",
        "drive = GoogleDrive(gauth)\n",
        "data_drop = drive.CreateFile({'id':'1EsvjOlPQpss37_qQF-cXvCUi0IrPUs33'})\n",
        "data_drop.GetContentFile('challenger-data.csv')\n",
        "\n",
        "print('Google Drive sincronizado com sucesso!')"
      ],
      "execution_count": 1,
      "outputs": [
        {
          "output_type": "stream",
          "name": "stdout",
          "text": [
            "Google Drive sincronizado com sucesso!\n"
          ]
        }
      ]
    },
    {
      "cell_type": "markdown",
      "metadata": {
        "id": "4vPjElUfowxT"
      },
      "source": [
        "Instalando as bibliotecas necessárias:"
      ]
    },
    {
      "cell_type": "code",
      "metadata": {
        "ExecuteTime": {
          "end_time": "2020-06-21T11:36:01.008552Z",
          "start_time": "2020-06-21T11:36:01.005794Z"
        },
        "id": "dTpWXsPIgSYn",
        "colab": {
          "base_uri": "https://localhost:8080/"
        },
        "outputId": "a6ba6e6a-15ea-4f9e-a64d-af719973d514"
      },
      "source": [
        "import pandas as pd\n",
        "import numpy as np\n",
        "\n",
        "from patsy import dmatrices\n",
        "import statsmodels.discrete.discrete_model as sm\n",
        "\n",
        "import matplotlib as mpl\n",
        "from matplotlib import pyplot as plt"
      ],
      "execution_count": 2,
      "outputs": [
        {
          "output_type": "stream",
          "name": "stderr",
          "text": [
            "/usr/local/lib/python3.7/dist-packages/statsmodels/tools/_testing.py:19: FutureWarning: pandas.util.testing is deprecated. Use the functions in the public API at pandas.testing instead.\n",
            "  import pandas.util.testing as tm\n"
          ]
        }
      ]
    },
    {
      "cell_type": "markdown",
      "metadata": {
        "id": "rTH7JPHZgSYo"
      },
      "source": [
        "# Dados"
      ]
    },
    {
      "cell_type": "markdown",
      "metadata": {
        "id": "Dtrb8H1zgSYo"
      },
      "source": [
        "Importando os dados do banco de dados `challenger-data.csv`"
      ]
    },
    {
      "cell_type": "code",
      "metadata": {
        "ExecuteTime": {
          "end_time": "2020-06-21T11:20:07.436300Z",
          "start_time": "2020-06-21T11:20:07.431561Z"
        },
        "id": "3-xmgaNPgSYo"
      },
      "source": [
        "data = pd.read_csv('challenger-data.csv')"
      ],
      "execution_count": 3,
      "outputs": []
    },
    {
      "cell_type": "markdown",
      "metadata": {
        "id": "6t1gP7ZbpyDH"
      },
      "source": [
        "Análise exploratória preliminar"
      ]
    },
    {
      "cell_type": "code",
      "metadata": {
        "ExecuteTime": {
          "end_time": "2020-06-21T11:23:14.835166Z",
          "start_time": "2020-06-21T11:23:14.417857Z"
        },
        "id": "Hb9tb-O8gSYo",
        "colab": {
          "base_uri": "https://localhost:8080/",
          "height": 279
        },
        "outputId": "8509b43c-2f44-48ba-d178-86705aa8cacb"
      },
      "source": [
        "# criar subconjuntos de dados\n",
        "failures = data.loc[(data.Y == 1)]\n",
        "no_failures = data.loc[(data.Y == 0)]\n",
        "\n",
        "# frequências\n",
        "failures_freq = failures.X.value_counts()\n",
        "no_failures_freq = no_failures.X.value_counts()\n",
        "\n",
        "# mostrar os gráficos\n",
        "plt.scatter(failures_freq.index, failures_freq, c='red', s=40)\n",
        "plt.scatter(no_failures_freq.index, np.zeros(len(no_failures_freq)),c='blue', s=40)\n",
        "plt.xlabel('X: temperatura [ºF]')\n",
        "plt.ylabel('Número de falhas')\n",
        "plt.show()"
      ],
      "execution_count": 7,
      "outputs": [
        {
          "output_type": "display_data",
          "data": {
            "image/png": "[encoded data removed]",
            "text/plain": [
              "<Figure size 432x288 with 1 Axes>"
            ]
          },
          "metadata": {
            "needs_background": "light"
          }
        }
      ]
    },
    {
      "cell_type": "markdown",
      "metadata": {
        "id": "uy5II7I8gSYp"
      },
      "source": [
        "# Definição do modelo e obtenção de resultados"
      ]
    },
    {
      "cell_type": "code",
      "metadata": {
        "ExecuteTime": {
          "end_time": "2020-06-21T11:36:03.154714Z",
          "start_time": "2020-06-21T11:36:03.086622Z"
        },
        "id": "AexMjnpngSYp",
        "colab": {
          "base_uri": "https://localhost:8080/"
        },
        "outputId": "28017917-cdc2-4aea-eaf2-08b84cdb1ba0"
      },
      "source": [
        "# obtenha os dados no formato correto\n",
        "y, X = dmatrices('Y ~ X', data, return_type = 'dataframe')\n",
        "\n",
        "# execute o modelo\n",
        "logit = sm.Logit(y, X)\n",
        "result = logit.fit()\n",
        "\n",
        "# obtenha um resumo dos resultados no modelo\n",
        "print(result.summary())"
      ],
      "execution_count": 8,
      "outputs": [
        {
          "output_type": "stream",
          "name": "stdout",
          "text": [
            "Optimization terminated successfully.\n",
            "         Current function value: 0.242411\n",
            "         Iterations 7\n",
            "                           Logit Regression Results                           \n",
            "==============================================================================\n",
            "Dep. Variable:                      Y   No. Observations:                  120\n",
            "Model:                          Logit   Df Residuals:                      118\n",
            "Method:                           MLE   Df Model:                            1\n",
            "Date:                Sun, 31 Oct 2021   Pseudo R-squ.:                  0.1549\n",
            "Time:                        14:47:54   Log-Likelihood:                -29.089\n",
            "converged:                       True   LL-Null:                       -34.420\n",
            "Covariance Type:            nonrobust   LLR p-value:                  0.001094\n",
            "==============================================================================\n",
            "                 coef    std err          z      P>|z|      [0.025      0.975]\n",
            "------------------------------------------------------------------------------\n",
            "Intercept      7.4049      3.041      2.435      0.015       1.445      13.365\n",
            "X             -0.1466      0.047     -3.104      0.002      -0.239      -0.054\n",
            "==============================================================================\n"
          ]
        }
      ]
    },
    {
      "cell_type": "code",
      "metadata": {
        "id": "ml3nG7AhpTG_"
      },
      "source": [
        ""
      ],
      "execution_count": 8,
      "outputs": []
    }
  ]
}