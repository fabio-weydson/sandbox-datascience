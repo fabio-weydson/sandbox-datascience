{
  "nbformat": 4,
  "nbformat_minor": 0,
  "metadata": {
    "hide_input": false,
    "kernelspec": {
      "display_name": "Python 3",
      "language": "python",
      "name": "python3"
    },
    "language_info": {
      "codemirror_mode": {
        "name": "ipython",
        "version": 3
      },
      "file_extension": ".py",
      "mimetype": "text/x-python",
      "name": "python",
      "nbconvert_exporter": "python",
      "pygments_lexer": "ipython3",
      "version": "3.7.7"
    },
    "toc": {
      "base_numbering": 1,
      "nav_menu": {},
      "number_sections": true,
      "sideBar": true,
      "skip_h1_title": false,
      "title_cell": "Table of Contents",
      "title_sidebar": "Contents",
      "toc_cell": true,
      "toc_position": {},
      "toc_section_display": true,
      "toc_window_display": false
    },
    "varInspector": {
      "cols": {
        "lenName": 16,
        "lenType": 16,
        "lenVar": 40
      },
      "kernels_config": {
        "python": {
          "delete_cmd_postfix": "",
          "delete_cmd_prefix": "del ",
          "library": "var_list.py",
          "varRefreshCmd": "print(var_dic_list())"
        },
        "r": {
          "delete_cmd_postfix": ") ",
          "delete_cmd_prefix": "rm(",
          "library": "var_list.r",
          "varRefreshCmd": "cat(var_dic_list()) "
        }
      },
      "types_to_exclude": [
        "module",
        "function",
        "builtin_function_or_method",
        "instance",
        "_Feature"
      ],
      "window_display": true
    },
    "colab": {
      "name": "CE_1.1.ipynb",
      "provenance": [],
      "collapsed_sections": [],
      "include_colab_link": true
    }
  },
  "cells": [
    {
      "cell_type": "markdown",
      "metadata": {
        "id": "view-in-github",
        "colab_type": "text"
      },
      "source": [
        "<a href=\"https://colab.research.google.com/github/fabio-weydson/sandbox-datascience/blob/main/CE_1_1.ipynb\" target=\"_parent\"><img src=\"https://colab.research.google.com/assets/colab-badge.svg\" alt=\"Open In Colab\"/></a>"
      ]
    },
    {
      "cell_type": "markdown",
      "metadata": {
        "id": "WVyTphbkTpXL"
      },
      "source": [
        "# Estudo de caso 1.1: Decifrando o genoma através da PCA e do K-Médias"
      ]
    },
    {
      "cell_type": "markdown",
      "metadata": {
        "id": "r8yOeE9ATpXL"
      },
      "source": [
        "Configuração do notebook:"
      ]
    },
    {
      "cell_type": "code",
      "metadata": {
        "ExecuteTime": {
          "end_time": "2020-06-10T17:09:22.818787Z",
          "start_time": "2020-06-10T17:09:21.353097Z"
        },
        "init_cell": true,
        "id": "47A2zB11TpXM"
      },
      "source": [
        "import requests\n",
        "import numpy as np\n",
        "import itertools\n",
        "import pandas as pd\n",
        "import re\n",
        "import matplotlib.pyplot as plt\n",
        "from termcolor import colored\n",
        "\n",
        "from sklearn.preprocessing import StandardScaler\n",
        "from sklearn.decomposition import PCA\n",
        "from sklearn.cluster import KMeans\n",
        "\n",
        "print('Bibliotecas importadas com sucesso!')"
      ],
      "execution_count": null,
      "outputs": []
    },
    {
      "cell_type": "markdown",
      "metadata": {
        "id": "00MzyIq7TpXP"
      },
      "source": [
        "# Download de dados"
      ]
    },
    {
      "cell_type": "markdown",
      "metadata": {
        "id": "jC6hTTBeTpXP"
      },
      "source": [
        "Conforme descrito no roteiro do Estudo de caso 1.1, tanto os dados do sequenciamento genômico da *Caulobacter Crescentus* quanto as funções do Matlab utilizadas pelos autores, podem ser baixados pelo [link](http://www.ihes.fr/~zinovyev/pcadg/).\n",
        "\n",
        "Através da biblioteca `requests` podemos acessar esse sequenciamento e transformá-lo em uma `string` de Python:"
      ]
    },
    {
      "cell_type": "code",
      "metadata": {
        "ExecuteTime": {
          "end_time": "2020-06-01T03:54:38.622884Z",
          "start_time": "2020-06-01T03:54:37.591306Z"
        },
        "id": "QElfDUBKTpXQ"
      },
      "source": [
        "url = 'http://www.ihes.fr/~zinovyev/pcadg/ccrescentus.fa'\n",
        "data = ''.join(requests.get(url).text.split('\\r\\n')[1:])\n",
        "print('Comprimento do sequenciamento do genoma da Caulobacter Crescentus: {}'.format(len(data)))\n",
        "print('Primeiras 25 letras do sequenciamento: {}'.format(data[:25]))"
      ],
      "execution_count": null,
      "outputs": []
    },
    {
      "cell_type": "markdown",
      "metadata": {
        "ExecuteTime": {
          "end_time": "2020-05-20T21:11:08.244070Z",
          "start_time": "2020-05-20T21:11:08.241636Z"
        },
        "id": "UcrlvuAqTpXT"
      },
      "source": [
        "# Geração de atributos"
      ]
    },
    {
      "cell_type": "markdown",
      "metadata": {
        "id": "qcvwcBtrTpXT"
      },
      "source": [
        "O artigo no qual o Estudo de caso 1.1 se baseia propõe a função `CalcFreq`do Matlab que gera atributos para cada fragmento de 300 letras do genoma. Um dos parâmetros dessa função é o comprimento M (chamado ''len'' na função), de subpalavras nas quais cada fragmento se divide (subpalavras de 1,2,3 ou 4 letras de comprimento). A função a seguir realiza as mesmas operações:"
      ]
    },
    {
      "cell_type": "code",
      "metadata": {
        "ExecuteTime": {
          "end_time": "2020-06-01T03:54:38.629622Z",
          "start_time": "2020-06-01T03:54:38.624531Z"
        },
        "id": "Jua0jfIcTpXU"
      },
      "source": [
        "def CalcFreq(_str,_len,wid):\n",
        "    '''\n",
        "    Inputs: \n",
        "        _str: o sequenciamento completo\n",
        "        _len: o comprimento das subpalavras (de 1 a 4 letras)\n",
        "        wid:  o comprimento dos fragmentos (neste estudo são \n",
        "              usados fragmentos de 300 letras)\n",
        "    Output:\n",
        "        xx: matriz de atributos\n",
        "    '''\n",
        "    #Dividindo o sequenciamento em fragmentos \n",
        "    fragmentos = [_str[i:i+wid] for i in range(0, len(_str), wid)]\n",
        "    \n",
        "    #Gerando possíveis combinações de letras (atributos)\n",
        "    letras = ['a','c','g','t']\n",
        "    atributos = [''.join(i) for i in list(itertools.product(letras,repeat=_len))]\n",
        "    \n",
        "    #Calculando a frequência de cada atributo\n",
        "    xx = np.zeros((len(fragmentos),len(atributos)))\n",
        "    for i,frag in enumerate(fragmentos):\n",
        "        frag = [frag[i:i+_len] for i in range(0, len(frag), _len)]\n",
        "        for j,atr in enumerate(atributos):\n",
        "            xx[i,j] = frag.count(atr)\n",
        "    \n",
        "    return xx"
      ],
      "execution_count": null,
      "outputs": []
    },
    {
      "cell_type": "code",
      "metadata": {
        "ExecuteTime": {
          "end_time": "2020-06-01T03:54:39.228329Z",
          "start_time": "2020-06-01T03:54:38.631846Z"
        },
        "id": "K8-EteLjTpXW"
      },
      "source": [
        "xx1 = CalcFreq(data,1,300)\n",
        "xx2 = CalcFreq(data,2,300)\n",
        "xx3 = CalcFreq(data,3,300)\n",
        "xx4 = CalcFreq(data,4,300)"
      ],
      "execution_count": null,
      "outputs": []
    },
    {
      "cell_type": "code",
      "metadata": {
        "id": "SUHqQgNZWNdf"
      },
      "source": [
        "xx3"
      ],
      "execution_count": null,
      "outputs": []
    },
    {
      "cell_type": "markdown",
      "metadata": {
        "id": "6ChsBkeLTpXY"
      },
      "source": [
        "# PCA (Análise de componentes principais)"
      ]
    },
    {
      "cell_type": "markdown",
      "metadata": {
        "id": "VvqwCa88TpXY"
      },
      "source": [
        "Uma vez que obtemos as tabelas com os atributos em função do comprimento das palavras, podemos reduzir a dimensionalidade de nossa informação, usando a Análise de Componentes Principais (PCA). As funções a seguir calculam os dois componentes principais através da biblioteca `sci-kit learn`, e mostram gráficos dos resultados:"
      ]
    },
    {
      "cell_type": "code",
      "metadata": {
        "ExecuteTime": {
          "end_time": "2020-06-01T03:58:39.303606Z",
          "start_time": "2020-06-01T03:58:39.297071Z"
        },
        "id": "iRrN488gTpXY"
      },
      "source": [
        "def PCAFreq(xx,_len):\n",
        "    #Padronização dos diferentes atributos\n",
        "    std_xx = StandardScaler().fit_transform(xx)\n",
        "    #Redução para duas dimensões através da PCA\n",
        "    pca = PCA(n_components=2)\n",
        "    comp_principales = pca.fit_transform(std_xx)\n",
        "    plot_PCA(comp_principales,_len)\n",
        "    return comp_principales\n",
        "\n",
        "def plot_PCA(comp_principales,_len):\n",
        "    fig = plt.figure(figsize = (8,8))\n",
        "    ax = fig.add_subplot(1,1,1) \n",
        "    ax.scatter(x=comp_principales[:,0],y=comp_principales[:,1],\n",
        "               marker='.',s=3,color='k',\n",
        "              )\n",
        "    ax.annotate('M = {}'.format(_len),xy=[0.1,0.8],xytext = (0.1,0.8),\n",
        "                xycoords = 'axes fraction',fontsize=14)\n",
        "    plt.show()\n",
        "    "
      ],
      "execution_count": null,
      "outputs": []
    },
    {
      "cell_type": "code",
      "metadata": {
        "ExecuteTime": {
          "end_time": "2020-06-01T03:58:40.306062Z",
          "start_time": "2020-06-01T03:58:39.806439Z"
        },
        "scrolled": false,
        "id": "gcCF3tIxTpXb"
      },
      "source": [
        "xx1_PCA = PCAFreq(xx1,1)\n",
        "xx2_PCA = PCAFreq(xx2,2)\n",
        "xx3_PCA = PCAFreq(xx3,3)\n",
        "xx4_PCA = PCAFreq(xx4,4)"
      ],
      "execution_count": null,
      "outputs": []
    },
    {
      "cell_type": "markdown",
      "metadata": {
        "id": "eYsdZPxMTpXd"
      },
      "source": [
        "# K-Médias (_K-Means_)"
      ]
    },
    {
      "cell_type": "markdown",
      "metadata": {
        "id": "NoKg5vV9TpXd"
      },
      "source": [
        "Por último, podemos aplicar o K-Médias à tabela gerada com palavras de 3 letras. Tenha atenção ao fato de que o K-Médias se aplica aos __64 atributos__ (não aos dois componentes principais obtidos através da PCA). Após isso, os resultados podem ser visualizados através da PCA ou diretamente sobre o sequenciamento genético."
      ]
    },
    {
      "cell_type": "code",
      "metadata": {
        "ExecuteTime": {
          "end_time": "2020-06-01T03:54:39.417824Z",
          "start_time": "2020-06-01T03:54:38.289Z"
        },
        "id": "Jp6Fgnn7TpXe"
      },
      "source": [
        "def ClustFreq(xx,k):\n",
        "    kmeans = KMeans(n_clusters=k, random_state=0).fit(xx)\n",
        "    clusters = kmeans.labels_\n",
        "    return clusters\n",
        "\n",
        "def plot_PCA_colors(xx_PCA,clusters):\n",
        "    fig = plt.figure(figsize = (8,8))\n",
        "    ax = fig.add_subplot(1,1,1)\n",
        "    black_cluster = (clusters == 1)\n",
        "    ax.scatter(x=xx_PCA[black_cluster][:,0],y=xx_PCA[black_cluster][:,1],color='k',\n",
        "               marker='o',s=10)\n",
        "    ax.scatter(x=xx_PCA[~black_cluster][:,0],y=xx_PCA[~black_cluster][:,1],\n",
        "               c=clusters[~black_cluster],cmap='Paired_r',marker='o',s=10)\n",
        "    plt.show()\n",
        "\n",
        "def plot_letter_with_colors(data,clusters):\n",
        "    fragmentos = [data[i:i+300] for i in range(0, len(data), 300)]\n",
        "    color_map = {0:'grey',2:'red',3:'green',4:'yellow',5:'blue',6:'magenta'}\n",
        "    for i,frag in enumerate(fragmentos):\n",
        "        if clusters[i] == 1:\n",
        "            print(frag)\n",
        "        else:\n",
        "            print(colored(frag, color=color_map[clusters[i]]))"
      ],
      "execution_count": null,
      "outputs": []
    },
    {
      "cell_type": "code",
      "metadata": {
        "ExecuteTime": {
          "end_time": "2020-06-01T03:54:39.419197Z",
          "start_time": "2020-06-01T03:54:38.290Z"
        },
        "id": "8YeMDaadTpXg"
      },
      "source": [
        "clusters = ClustFreq(xx3,7) \n",
        "plot_PCA_colors(xx3_PCA,clusters)"
      ],
      "execution_count": null,
      "outputs": []
    },
    {
      "cell_type": "code",
      "metadata": {
        "ExecuteTime": {
          "end_time": "2020-06-01T03:54:39.420725Z",
          "start_time": "2020-06-01T03:54:38.292Z"
        },
        "id": "p-wUyy2VTpXi"
      },
      "source": [
        "plot_letter_with_colors(data[:30000],clusters[:100])"
      ],
      "execution_count": null,
      "outputs": []
    },
    {
      "cell_type": "markdown",
      "metadata": {
        "id": "vmxmlnbyTpXj"
      },
      "source": [
        "# Tarefas extras:"
      ]
    },
    {
      "cell_type": "markdown",
      "metadata": {
        "id": "kRhYqoWuTpXk"
      },
      "source": [
        "A seguir, podem ser desenvolvidas as diferentes tarefas extras propostas no roteiro do estudo de caso..."
      ]
    }
  ]
}