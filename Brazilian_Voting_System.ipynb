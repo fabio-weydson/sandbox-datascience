{
  "nbformat": 4,
  "nbformat_minor": 0,
  "metadata": {
    "colab": {
      "provenance": [],
      "authorship_tag": "ABX9TyNZx+JGltai1IjbLbI2wsJm",
      "include_colab_link": true
    },
    "kernelspec": {
      "name": "python3",
      "display_name": "Python 3"
    },
    "language_info": {
      "name": "python"
    }
  },
  "cells": [
    {
      "cell_type": "markdown",
      "metadata": {
        "id": "view-in-github",
        "colab_type": "text"
      },
      "source": [
        "<a href=\"https://colab.research.google.com/github/fabio-weydson/sandbox-datascience/blob/main/Brazilian_Voting_System.ipynb\" target=\"_parent\"><img src=\"https://colab.research.google.com/assets/colab-badge.svg\" alt=\"Open In Colab\"/></a>"
      ]
    },
    {
      "cell_type": "markdown",
      "source": [
        "### Descriptografia\n",
        "\n",
        "\n"
      ],
      "metadata": {
        "id": "5DR8bH6D2kNq"
      }
    },
    {
      "cell_type": "markdown",
      "source": [
        "Instalação da lib de desencriptação\n"
      ],
      "metadata": {
        "id": "k5Z_mZxm5fhv"
      }
    },
    {
      "cell_type": "code",
      "execution_count": null,
      "metadata": {
        "id": "4hXvQuVD1mKl"
      },
      "outputs": [],
      "source": [
        "!curl -s https://raw.githubusercontent.com/andre-marcos-perez/ebac-course-utils/develop/notebooks/2022_11_29/rdv.py -o ../rdv.py"
      ]
    },
    {
      "cell_type": "code",
      "source": [
        "!pip install asn1crypto==1.5.1"
      ],
      "metadata": {
        "colab": {
          "base_uri": "https://localhost:8080/"
        },
        "id": "WVp3tALd5fS6",
        "outputId": "3cfad93b-978f-4ff1-edb4-f98b55da0d4a"
      },
      "execution_count": 10,
      "outputs": [
        {
          "output_type": "stream",
          "name": "stdout",
          "text": [
            "Looking in indexes: https://pypi.org/simple, https://us-python.pkg.dev/colab-wheels/public/simple/\n",
            "Requirement already satisfied: asn1crypto==1.5.1 in /usr/local/lib/python3.8/dist-packages (1.5.1)\n"
          ]
        }
      ]
    },
    {
      "cell_type": "markdown",
      "source": [
        "### Dados da Urna (RDV)"
      ],
      "metadata": {
        "id": "vOMkxOdk4-4_"
      }
    },
    {
      "cell_type": "code",
      "source": [
        "!curl -s https://resultados.tse.jus.br/oficial/ele2022/arquivo-urna/407/dados/ce/13897/0001/0033/734e4e56726971547549574f53794a3755624e6a5272664e313144464b755a2b4e48736c424470487a57413d/o00407-1389700010033.bu -o ../bu-fortaleza-z0001-s0033.bu"
      ],
      "metadata": {
        "id": "te396gxT4-Dl"
      },
      "execution_count": 6,
      "outputs": []
    },
    {
      "cell_type": "markdown",
      "source": [],
      "metadata": {
        "id": "N_75paoW6W1n"
      }
    },
    {
      "cell_type": "code",
      "source": [
        "!python ../rdv.py -r o00407-1389700010033.rdv > o00407-1389700010033.txt --debug"
      ],
      "metadata": {
        "colab": {
          "base_uri": "https://localhost:8080/"
        },
        "id": "QKpEWhLo6WNf",
        "outputId": "5d16f2b8-17ac-4ce5-9306-d8aa1c778140"
      },
      "execution_count": 28,
      "outputs": [
        {
          "output_type": "stream",
          "name": "stdout",
          "text": [
            "2022-12-14 00:12:07,244 - INFO - Converte RDV o00407-1389700010033.rdv\n",
            "2022-12-14 00:12:07,244 - DEBUG - Lendo arquivo o00407-1389700010033.rdv\n",
            "Traceback (most recent call last):\n",
            "  File \"../rdv.py\", line 369, in <module>\n",
            "    main()\n",
            "  File \"../rdv.py\", line 365, in main\n",
            "    imprime_rdv(rdv_path)\n",
            "  File \"../rdv.py\", line 324, in imprime_rdv\n",
            "    rdv = resultado_rdv[\"rdv\"]\n",
            "  File \"/usr/local/lib/python3.8/dist-packages/asn1crypto/core.py\", line 3536, in __getitem__\n",
            "    raise e\n",
            "  File \"/usr/local/lib/python3.8/dist-packages/asn1crypto/core.py\", line 3531, in __getitem__\n",
            "    return self._lazy_child(key)\n",
            "  File \"/usr/local/lib/python3.8/dist-packages/asn1crypto/core.py\", line 3478, in _lazy_child\n",
            "    child = self.children[index] = _build(*child)\n",
            "  File \"/usr/local/lib/python3.8/dist-packages/asn1crypto/core.py\", line 5541, in _build\n",
            "    raise ValueError(unwrap(\n",
            "ValueError: Error parsing __main__.EntidadeRegistroDigitalVoto - class should have been universal, but context was found\n",
            "    while parsing __main__.EntidadeResultadoRDV\n"
          ]
        }
      ]
    }
  ]
}