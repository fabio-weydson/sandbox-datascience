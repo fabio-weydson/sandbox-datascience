{
  "nbformat": 4,
  "nbformat_minor": 0,
  "metadata": {
    "kernelspec": {
      "name": "python36",
      "display_name": "Python 3.6",
      "language": "python"
    },
    "language_info": {
      "mimetype": "text/x-python",
      "nbconvert_exporter": "python",
      "name": "python",
      "pygments_lexer": "ipython3",
      "version": "3.6.6",
      "file_extension": ".py",
      "codemirror_mode": {
        "version": 3,
        "name": "ipython"
      }
    },
    "colab": {
      "name": "CE_5.2_por_GPS.ipynb",
      "provenance": [],
      "collapsed_sections": [],
      "include_colab_link": true
    }
  },
  "cells": [
    {
      "cell_type": "markdown",
      "metadata": {
        "id": "view-in-github",
        "colab_type": "text"
      },
      "source": [
        "<a href=\"https://colab.research.google.com/github/fabio-weydson/sandbox-datascience/blob/main/CE_5_2_por_GPS.ipynb\" target=\"_parent\"><img src=\"https://colab.research.google.com/assets/colab-badge.svg\" alt=\"Open In Colab\"/></a>"
      ]
    },
    {
      "cell_type": "markdown",
      "metadata": {
        "collapsed": true,
        "id": "IpAvqvx8kpzQ"
      },
      "source": [
        "# Estudo de caso 5.2: Rastreando a localização de um objeto que se move a uma velocidade constante"
      ]
    },
    {
      "cell_type": "markdown",
      "metadata": {
        "id": "g-J7g8S3khxg"
      },
      "source": [
        "**Configuração do *notebook***"
      ]
    },
    {
      "cell_type": "code",
      "metadata": {
        "id": "_YSE4LvMWQxt"
      },
      "source": [
        "import numpy as np\n",
        "import matplotlib as mpl\n",
        "from matplotlib import pyplot as plt"
      ],
      "execution_count": null,
      "outputs": []
    },
    {
      "cell_type": "markdown",
      "metadata": {
        "id": "VYSor0zwHJRk"
      },
      "source": [
        "## Geração de dados\n",
        "\n",
        "Precisamos gerar sinteticamente medições ruidosas da velocidade constante em ambas as direções. Em Python, podemos fazer isso da seguinte maneira:"
      ]
    },
    {
      "cell_type": "code",
      "metadata": {
        "id": "ez0tbCUcHInP"
      },
      "source": [
        "# Número de medições\n",
        "m = 100\n",
        "# velocidade em x (constante)\n",
        "vx= 10\n",
        "# velocidade em y (constante)\n",
        "vy= 10\n",
        "# adicionamos ruído aleatório às duas medições\n",
        "mx = np.array(vx + np.random.randn(m)) \n",
        "my = np.array(vy + np.random.randn(m)) \n",
        "measurements = np.vstack((mx,my))"
      ],
      "execution_count": null,
      "outputs": []
    },
    {
      "cell_type": "markdown",
      "metadata": {
        "id": "pN4vZfiaHPh1"
      },
      "source": [
        "Visualização dos dados gerados:"
      ]
    },
    {
      "cell_type": "code",
      "metadata": {
        "id": "n2UFgMLfHPpJ"
      },
      "source": [
        "plt.plot(range(m),mx, label='$v_1 (medições)$') \n",
        "plt.plot(range(m),my, label='$v_2 (medições)$') \n",
        "plt.ylabel('Medições de velocidade')\n",
        "plt.title('Medições com ruído') \n",
        "plt.legend(loc='best',prop={'size':12})\n",
        "\n",
        "plt.show()"
      ],
      "execution_count": null,
      "outputs": []
    },
    {
      "cell_type": "markdown",
      "metadata": {
        "id": "rtcS1c8sHPvH"
      },
      "source": [
        "## Inicialização de variáveis\n",
        "\n",
        "Podemos inicializar as variáveis ​​e matrizes que são especificadas no modelo da seguinte maneira:"
      ]
    },
    {
      "cell_type": "code",
      "metadata": {
        "id": "PDVOHOE8HP0p"
      },
      "source": [
        "# Tamanho do intervalo para o filtro\n",
        "dt = 0.1\n",
        "# Matriz de identidade\n",
        "I = np.eye(4)\n",
        "# Matriz de estado\n",
        "x = np.matrix([[0.0, 0.0, 0.0, 0.0]]).T\n",
        "# Matriz P\n",
        "P = np.diag([1000.0, 1000.0, 1000.0, 1000.0])\n",
        "# Matriz A\n",
        "A = np.matrix([[1.0, 0.0, dt, 0.0], \n",
        "               [0.0, 1.0, 0.0, dt],\n",
        "               [0.0, 0.0, 1.0, 0.0],\n",
        "               [0.0, 0.0, 0.0, 1.0]])\n",
        "# Matriz H\n",
        "H = np.matrix([[0.0, 0.0, 1.0, 0.0], \n",
        "               [0.0, 0.0, 0.0, 1.0]])\n",
        "# Matriz R\n",
        "r = 100.0\n",
        "R = np.matrix([[r, 0.0],\n",
        "               [0.0, r]])\n",
        "# Matrizes Q e G\n",
        "s = 8.8\n",
        "G = np.matrix([[0.5*dt**2],\n",
        "               [0.5*dt**2],\n",
        "               [dt],\n",
        "               [dt]])\n",
        "Q = G*G.T*s**2"
      ],
      "execution_count": null,
      "outputs": []
    },
    {
      "cell_type": "markdown",
      "metadata": {
        "id": "54X8cAKvHP60"
      },
      "source": [
        "## Algoritmo do Filtro de Kalman"
      ]
    },
    {
      "cell_type": "code",
      "metadata": {
        "id": "l8s0ZBiLHQBJ"
      },
      "source": [
        "# As seguintes variáveis irão salvar os resultados em cada iteração\n",
        "xt = [] \n",
        "yt = [] \n",
        "dxt= [] \n",
        "dyt= [] \n",
        "Zx = [] \n",
        "Zy = [] \n",
        "Px = [] \n",
        "Py = [] \n",
        "Pdx= [] \n",
        "Pdy= [] \n",
        "Rdx= [] \n",
        "Rdy= [] \n",
        "Kx = [] \n",
        "Ky = [] \n",
        "Kdx= [] \n",
        "Kdy= []"
      ],
      "execution_count": null,
      "outputs": []
    },
    {
      "cell_type": "markdown",
      "metadata": {
        "id": "I-MprHngIQnH"
      },
      "source": [
        "**Algoritmo do Filtro de Kalman**"
      ]
    },
    {
      "cell_type": "code",
      "metadata": {
        "id": "JGFNagMrINd2"
      },
      "source": [
        "for n in range(len(measurements[0])):\n",
        "  # Previsão\n",
        "  # Previsão de estado\n",
        "  x = A*x\n",
        "  # Previsão da covariância do erro\n",
        "  P = A*P*A.T + Q\n",
        "  # Atualizar intervalos\n",
        "  # Ganho do Kalman\n",
        "  S = H*P*H.T + R\n",
        "  K = (P*H.T) * np.linalg.pinv(S)\n",
        "  # Atualizar a estimativa via Z\n",
        "  Z = measurements[:,n].reshape(2,1) \n",
        "  y = Z - (H*x)\n",
        "  x = x + (K*y)\n",
        "  # Covariância do erro\n",
        "  P = (I - (K*H))*P\n",
        "  \n",
        "  # Salvando resultados\n",
        "  xt.append(float(x[0])) \n",
        "  yt.append(float(x[1])) \n",
        "  dxt.append(float(x[2])) \n",
        "  dyt.append(float(x[3])) \n",
        "  Zx.append(float(Z[0])) \n",
        "  Zy.append(float(Z[1])) \n",
        "  Px.append(float(P[0,0])) \n",
        "  Py.append(float(P[1,1])) \n",
        "  Pdx.append(float(P[2,2])) \n",
        "  Pdy.append(float(P[3,3])) \n",
        "  Rdx.append(float(R[0,0])) \n",
        "  Rdy.append(float(R[1,1])) \n",
        "  Kx.append(float(K[0,0])) \n",
        "  Ky.append(float(K[1,0])) \n",
        "  Kdx.append(float(K[2,0])) \n",
        "  Kdy.append(float(K[3,0]))"
      ],
      "execution_count": null,
      "outputs": []
    },
    {
      "cell_type": "markdown",
      "metadata": {
        "id": "DHLCKAivHQGy"
      },
      "source": [
        "## Resultados"
      ]
    },
    {
      "cell_type": "markdown",
      "metadata": {
        "id": "o8WWdjwKIru1"
      },
      "source": [
        "Medição da velocidade:"
      ]
    },
    {
      "cell_type": "code",
      "metadata": {
        "id": "HDOQ4hDCHQMC"
      },
      "source": [
        "# Nossas estimativas em vermelho\n",
        "plt.plot(range(len(measurements[0])),dxt, label='$v_1$', c='r') \n",
        "plt.plot(range(len(measurements[0])),dyt, label='$v_2$', c='r')\n",
        "\n",
        "# As medições ruidosas da velocidade em ambas as direções estão em verde e azul \n",
        "plt.plot(range(len(measurements[0])),mx, label='$z_1 (medições)$', c='g') \n",
        "plt.plot(range(len(measurements[0])),my, label='$z_2 (medições)$', c='b')\n",
        "\n",
        "# Velocidade constante nas duas direções na cor preta\n",
        "plt.axhline(vx, color='#999999', label='$v_1(real)$') \n",
        "plt.axhline(vy, color='#999999', label='$v_2(real)$')\n",
        "plt.title('Estimativas da velocidade') \n",
        "plt.legend(loc='best') \n",
        "plt.ylim([0, 20])\n",
        "plt.show()"
      ],
      "execution_count": null,
      "outputs": []
    },
    {
      "cell_type": "markdown",
      "metadata": {
        "id": "jsAazN1MIycw"
      },
      "source": [
        "Rastreamento da posição:"
      ]
    },
    {
      "cell_type": "code",
      "metadata": {
        "id": "obBeWr0jIyiv"
      },
      "source": [
        "# Scatter plot da estimativa da posição de x e y na cor preta\n",
        "# idealmente deveiam formar uma linha reta\n",
        "plt.scatter(xt,yt, s=20, label='State', c='black')\n",
        "\n",
        "# ponto inicial em verde e ponto final em vermelho\n",
        "plt.scatter(xt[0],yt[0], s=100, label='Início', c='g') \n",
        "plt.scatter(xt[-1],yt[-1], s=100, label='Objetivo', c='r')\n",
        "plt.xlabel('$x_1$')\n",
        "plt.ylabel('$x_2$')\n",
        "plt.title('Estimativas da posição (tracking)') \n",
        "plt.legend(loc='best')\n",
        "plt.show()"
      ],
      "execution_count": null,
      "outputs": []
    },
    {
      "cell_type": "markdown",
      "metadata": {
        "id": "Plj_Th3_Hjp1"
      },
      "source": [
        "---\n",
        "\n",
        "Referências:\n",
        "\n",
        "* https://balzer82.github.io/Kalman/"
      ]
    },
    {
      "cell_type": "code",
      "metadata": {
        "id": "pmeirCLJHqKx"
      },
      "source": [
        ""
      ],
      "execution_count": null,
      "outputs": []
    }
  ]
}